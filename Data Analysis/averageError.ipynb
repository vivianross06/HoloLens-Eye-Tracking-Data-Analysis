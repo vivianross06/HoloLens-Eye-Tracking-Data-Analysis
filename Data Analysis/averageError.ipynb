{
 "cells": [
  {
   "cell_type": "code",
   "execution_count": 27,
   "metadata": {},
   "outputs": [],
   "source": [
    "import numpy as np\n",
    "import pandas as pd\n",
    "import os"
   ]
  },
  {
   "cell_type": "code",
   "execution_count": 28,
   "metadata": {},
   "outputs": [
    {
     "name": "stdout",
     "output_type": "stream",
     "text": [
      "['11', '12']\n"
     ]
    }
   ],
   "source": [
    "data_directory = \"../Data/Study/\"\n",
    "subdirectory = \"error/recalibrated_calibration/\"\n",
    "#fileList = os.listdir(data_directory)\n",
    "#fileList.remove('.DS_Store')\n",
    "#fileList.remove('11')\n",
    "#fileList.remove('12')\n",
    "#fileList.remove('02')\n",
    "fileList = ['11', '12']\n",
    "print(fileList)"
   ]
  },
  {
   "cell_type": "code",
   "execution_count": 14,
   "metadata": {},
   "outputs": [],
   "source": [
    "def calculate_average_error(taskname):\n",
    "    uncalibratedEuclidean = []\n",
    "    calibratedEuclidean = []\n",
    "    cosine = []\n",
    "    for participantDirectory in fileList:\n",
    "        errorFiles = os.listdir(data_directory + participantDirectory + '/' + subdirectory)\n",
    "        for file in errorFiles:\n",
    "            if taskname in file:\n",
    "                df = pd.read_csv(data_directory + participantDirectory + '/' + subdirectory + file)\n",
    "                uncalibratedEuclidean.append(df[['euclideanError']])\n",
    "                calibratedEuclidean.append(df[['recalibratedEuclideanError']])\n",
    "                cosine.append(df[['cosineError']])\n",
    "    print(len(cosine))\n",
    "    totalUncalibratedEuclidean = pd.DataFrame().append(uncalibratedEuclidean)\n",
    "    totalCalibratedEuclidean = pd.DataFrame().append(calibratedEuclidean)\n",
    "    totalCosine = pd.DataFrame().append(cosine)\n",
    "    return [totalUncalibratedEuclidean['euclideanError'].mean(), totalCalibratedEuclidean['recalibratedEuclideanError'].mean(), totalCosine['cosineError'].mean()]\n"
   ]
  },
  {
   "cell_type": "code",
   "execution_count": 34,
   "metadata": {},
   "outputs": [
    {
     "name": "stdout",
     "output_type": "stream",
     "text": [
      "4\n",
      "Uncalibrated euclidean: 22.69579189303771\n",
      "Calibrated euclidean: 23.680494512759395\n",
      "Cosine: 21.931337633106484\n"
     ]
    }
   ],
   "source": [
    "taskname = \"wsBodyConstrained_\"\n",
    "errors = calculate_average_error(taskname)\n",
    "print(\"Uncalibrated euclidean: \" + str(errors[0]))\n",
    "print(\"Calibrated euclidean: \" + str(errors[1]))\n",
    "print(\"Cosine: \" + str(errors[2]))"
   ]
  }
 ],
 "metadata": {
  "kernelspec": {
   "display_name": "base",
   "language": "python",
   "name": "python3"
  },
  "language_info": {
   "codemirror_mode": {
    "name": "ipython",
    "version": 3
   },
   "file_extension": ".py",
   "mimetype": "text/x-python",
   "name": "python",
   "nbconvert_exporter": "python",
   "pygments_lexer": "ipython3",
   "version": "3.8.5"
  },
  "orig_nbformat": 4
 },
 "nbformat": 4,
 "nbformat_minor": 2
}

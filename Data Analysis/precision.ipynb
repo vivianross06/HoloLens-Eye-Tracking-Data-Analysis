{
 "cells": [
  {
   "cell_type": "code",
   "execution_count": 33,
   "metadata": {},
   "outputs": [],
   "source": [
    "import numpy as np\n",
    "import pandas as pd\n",
    "import os\n",
    "from datetime import datetime, timedelta"
   ]
  },
  {
   "cell_type": "code",
   "execution_count": null,
   "metadata": {},
   "outputs": [],
   "source": [
    "#directories"
   ]
  },
  {
   "cell_type": "code",
   "execution_count": 29,
   "metadata": {},
   "outputs": [],
   "source": [
    "def clean_df(df):\n",
    "    result = df.loc[(df['Movement'] != \"start\") & (df['EyeTrackingEnabled'] == True) & (df['EyeCalibrationValid'] == True) & (df['EyeTrackingEnabledAndValid'] == True) & (df['EyeTrackingDataValid'] == True) & (df['GazeInputSource'] == \"Eyes\")].copy()\n",
    "    result.reset_index(inplace=True, drop=True)\n",
    "    return result"
   ]
  },
  {
   "cell_type": "code",
   "execution_count": 34,
   "metadata": {},
   "outputs": [],
   "source": [
    "def calculate_differences(df):\n",
    "    cleaned_df = clean_df(df)\n",
    "    difference_df = cleaned_df.loc[1:, ['Movement', 'Time', 'GazeAngleX', 'GazeAngleY']]\n",
    "    difference_df.reset_index(inplace=True, drop=True)\n",
    "    difference_df['euclideanDifference'] = difference_df.apply(lambda row: np.linalg.norm(np.array((row['GazeAngleX'], row['GazeAngleY'])) - np.array((cleaned_df.loc[row.name, 'GazeAngleX'], cleaned_df.loc[row.name, 'GazeAngleY']))), axis=1)\n",
    "    difference_df['temporalDifference'] = difference_df.apply(lambda row: (datetime.strptime(row['Time'], \"%m/%d/%Y %H:%M:%S.%f\") - datetime.strptime(cleaned_df.loc[row.name, 'Time'], \"%m/%d/%Y %H:%M:%S.%f\")).total_seconds(), axis=1)\n",
    "    return difference_df"
   ]
  },
  {
   "cell_type": "code",
   "execution_count": 35,
   "metadata": {},
   "outputs": [
    {
     "name": "stdout",
     "output_type": "stream",
     "text": [
      "        Movement                        Time  GazeAngleX  GazeAngleY  \\\n",
      "0     transition  05/04/2023 16:20:36.064787   -0.377965   -6.150475   \n",
      "1     transition  05/04/2023 16:20:36.084346   -0.374920   -6.159284   \n",
      "2     transition  05/04/2023 16:20:36.094506   -0.371671   -6.167336   \n",
      "3     transition  05/04/2023 16:20:36.114137   -0.368408   -6.175092   \n",
      "4     transition  05/04/2023 16:20:36.134417   -0.366569   -6.183158   \n",
      "...          ...                         ...         ...         ...   \n",
      "1805      static  05/04/2023 16:21:06.165059   17.886810  -18.380950   \n",
      "1806      static  05/04/2023 16:21:06.184899   17.887510  -18.360830   \n",
      "1807      static  05/04/2023 16:21:06.194807   17.887200  -18.338110   \n",
      "1808      static  05/04/2023 16:21:06.215047   17.886730  -18.315500   \n",
      "1809      static  05/04/2023 16:21:06.235064   17.888830  -18.293520   \n",
      "\n",
      "      euclideanDifference  temporalDifference  \n",
      "0                0.009654            0.010264  \n",
      "1                0.009320            0.019559  \n",
      "2                0.008683            0.010160  \n",
      "3                0.008414            0.019631  \n",
      "4                0.008273            0.020280  \n",
      "...                   ...                 ...  \n",
      "1805             0.020365            0.010380  \n",
      "1806             0.020132            0.019840  \n",
      "1807             0.022722            0.009908  \n",
      "1808             0.022615            0.020240  \n",
      "1809             0.022080            0.020017  \n",
      "\n",
      "[1810 rows x 6 columns]\n"
     ]
    }
   ],
   "source": [
    "df = pd.read_csv(\"../Data/Study/01/raw/calibration_20230504162033.csv\")\n",
    "print(calculate_differences(df))"
   ]
  }
 ],
 "metadata": {
  "kernelspec": {
   "display_name": "base",
   "language": "python",
   "name": "python3"
  },
  "language_info": {
   "codemirror_mode": {
    "name": "ipython",
    "version": 3
   },
   "file_extension": ".py",
   "mimetype": "text/x-python",
   "name": "python",
   "nbconvert_exporter": "python",
   "pygments_lexer": "ipython3",
   "version": "3.8.5"
  },
  "orig_nbformat": 4
 },
 "nbformat": 4,
 "nbformat_minor": 2
}

{
 "cells": [
  {
   "cell_type": "code",
   "execution_count": 1,
   "metadata": {},
   "outputs": [],
   "source": [
    "import numpy as np\n",
    "import pandas as pd\n",
    "import os\n",
    "import math\n",
    "from datetime import datetime, timedelta\n",
    "from sklearn import linear_model"
   ]
  },
  {
   "cell_type": "code",
   "execution_count": 10,
   "metadata": {},
   "outputs": [],
   "source": [
    "data_directory = \"../Data/Study/16/\"\n",
    "subdirectory = 'shifted/'\n",
    "fileList = os.listdir(data_directory + subdirectory)"
   ]
  },
  {
   "cell_type": "code",
   "execution_count": 3,
   "metadata": {},
   "outputs": [],
   "source": [
    "def clean_df(df):\n",
    "    result = df.loc[(df['Movement'] != \"start\") & (df['Movement'] != \"transition\") & (df['EyeTrackingEnabled'] == True) & (df['EyeCalibrationValid'] == True) & (df['EyeTrackingEnabledAndValid'] == True) & (df['EyeTrackingDataValid'] == True) & (df['GazeInputSource'] == \"Eyes\")].copy()\n",
    "    #result = result[result['Movement'] != \"transition\"]\n",
    "    #result = result[result['EyeTrackingDataValid'] == 'TRUE']\n",
    "    #result = result[result['GazeInputSource'] == 'Eyes']\n",
    "    result.reset_index(inplace=True, drop=True)\n",
    "    return result"
   ]
  },
  {
   "cell_type": "code",
   "execution_count": 4,
   "metadata": {},
   "outputs": [],
   "source": [
    "def create_calibration_df(taskName):\n",
    "    frames = []\n",
    "    for file in fileList:\n",
    "        if taskName in file:\n",
    "            df = pd.read_csv(data_directory + subdirectory + file)\n",
    "            df = clean_df(df)\n",
    "            frames.append(df)\n",
    "    result = pd.concat(frames)\n",
    "    return result"
   ]
  },
  {
   "cell_type": "code",
   "execution_count": 5,
   "metadata": {},
   "outputs": [],
   "source": [
    "def calculate_regression_coefficients(df):\n",
    "    x1 = df[['GazeAngleX','GazeAngleY']]\n",
    "    y1 = df['TargetAngleX']\n",
    "    x2 = df[['GazeAngleX','GazeAngleY']]\n",
    "    y2 = df['TargetAngleY']\n",
    "    x_regr = linear_model.LinearRegression()\n",
    "    x_regr.fit(x1.to_numpy(), y1.to_numpy())\n",
    "    y_regr = linear_model.LinearRegression()\n",
    "    y_regr.fit(x2.to_numpy(), y2.to_numpy())\n",
    "    return [x_regr, y_regr]"
   ]
  },
  {
   "cell_type": "code",
   "execution_count": 6,
   "metadata": {},
   "outputs": [],
   "source": [
    "def calibrate_files(taskname, output_subdirectory):\n",
    "    calibration_df = create_calibration_df(taskname)\n",
    "    [x_coeff, y_coeff] = calculate_regression_coefficients(calibration_df)\n",
    "    for file in fileList:\n",
    "        if '.csv' in file:\n",
    "            df = pd.read_csv(data_directory + subdirectory + file)\n",
    "            df = clean_df(df)\n",
    "            df['CalibratedGazeAngleX'] = df.apply(lambda row: x_coeff.predict([[row['GazeAngleX'],row['GazeAngleY']]])[0], axis = 1)\n",
    "            df['CalibratedGazeAngleY'] = df.apply(lambda row: y_coeff.predict([[row['GazeAngleX'],row['GazeAngleY']]])[0], axis = 1)\n",
    "            if not os.path.exists(os.path.join(data_directory, output_subdirectory)):\n",
    "                os.mkdir(os.path.join(data_directory, output_subdirectory))\n",
    "            filePrefix = file.split('.')[0]\n",
    "            #recalibrated_df_output_path = data_directory + output_subdirectory + '/' + filePrefix + '_recalibrated_' + taskname + '.csv'\n",
    "            recalibrated_df_output_path = data_directory + output_subdirectory + '/' + file\n",
    "            df.to_csv(recalibrated_df_output_path)"
   ]
  },
  {
   "cell_type": "code",
   "execution_count": 11,
   "metadata": {},
   "outputs": [],
   "source": [
    "calibrate_files(\"calibration\", \"recalibrated_calibration\")"
   ]
  }
 ],
 "metadata": {
  "kernelspec": {
   "display_name": "base",
   "language": "python",
   "name": "python3"
  },
  "language_info": {
   "codemirror_mode": {
    "name": "ipython",
    "version": 3
   },
   "file_extension": ".py",
   "mimetype": "text/x-python",
   "name": "python",
   "nbconvert_exporter": "python",
   "pygments_lexer": "ipython3",
   "version": "3.8.5"
  },
  "orig_nbformat": 4
 },
 "nbformat": 4,
 "nbformat_minor": 2
}

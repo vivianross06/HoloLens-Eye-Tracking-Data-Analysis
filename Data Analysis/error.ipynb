{
 "cells": [
  {
   "cell_type": "code",
   "execution_count": 74,
   "metadata": {},
   "outputs": [],
   "source": [
    "import numpy as np\n",
    "import pandas as pd\n",
    "import os"
   ]
  },
  {
   "cell_type": "code",
   "execution_count": 93,
   "metadata": {},
   "outputs": [],
   "source": [
    "data_directory = \"../Data/Study/05/\"\n",
    "subdirectory = \"recalibrated_calibration/\"\n",
    "fileList = os.listdir(data_directory + subdirectory)"
   ]
  },
  {
   "cell_type": "code",
   "execution_count": 88,
   "metadata": {},
   "outputs": [],
   "source": [
    "def clean_df(df):\n",
    "    result = df.loc[(df['Movement'] != \"start\") & (df['Movement'] != \"transition\") & (df['EyeTrackingEnabled'] == True) & (df['EyeCalibrationValid'] == True) & (df['EyeTrackingEnabledAndValid'] == True) & (df['EyeTrackingDataValid'] == True) & (df['GazeInputSource'] == \"Eyes\")].copy()\n",
    "    #result = result[result['Movement'] != \"transition\"]\n",
    "    #result = result[result['EyeTrackingDataValid'] == 'TRUE']\n",
    "    #result = result[result['GazeInputSource'] == 'Eyes']\n",
    "    result.reset_index(inplace=True, drop=True)\n",
    "    return result"
   ]
  },
  {
   "cell_type": "code",
   "execution_count": 89,
   "metadata": {},
   "outputs": [],
   "source": [
    "def calculate_cosine_error(df):\n",
    "    df['cosineError'] = df.apply(lambda row: np.degrees(np.arccos(np.dot(np.array((row['EyeGazeDirection.x'], row['EyeGazeDirection.y'], row['EyeGazeDirection.z'])), np.array((row['localTransform.position.x'], row['localTransform.position.y'], row['localTransform.position.z'])))/(np.linalg.norm(np.array((row['EyeGazeDirection.x'], row['EyeGazeDirection.y'], row['EyeGazeDirection.z']))) * np.linalg.norm(np.array((row['localTransform.position.x'], row['localTransform.position.y'], row['localTransform.position.z'])))))), axis=1)\n",
    "    return df"
   ]
  },
  {
   "cell_type": "code",
   "execution_count": 90,
   "metadata": {},
   "outputs": [],
   "source": [
    "def calculate_euclidean_error(df):\n",
    "    #df['euclideanError'] = df.apply(lambda row: np.linalg.norm(np.array((row['GazeAngleX'], row['GazeAngleY']))-np.array((row['TargetAngleX'], row['TargetAngleY']))), axis=1)\n",
    "    #df['recalibratedEuclideanError'] = df.apply(lambda row: np.linalg.norm(np.array((row['CalibratedGazeAngleX'], row['CalibratedGazeAngleY']))-np.array((row['TargetAngleX'], row['TargetAngleY']))), axis=1)\n",
    "    df['euclideanError'] = np.sqrt((df.GazeAngleX-df.TargetAngleX) * (df.GazeAngleX-df.TargetAngleX) + (df.GazeAngleY-df.TargetAngleY) * (df.GazeAngleY-df.TargetAngleY))\n",
    "    df['recalibratedEuclideanError'] = np.sqrt((df.CalibratedGazeAngleX-df.TargetAngleX) * (df.CalibratedGazeAngleX-df.TargetAngleX) + (df.CalibratedGazeAngleY-df.TargetAngleY) * (df.CalibratedGazeAngleY-df.TargetAngleY))\n",
    "    return df"
   ]
  },
  {
   "cell_type": "code",
   "execution_count": 91,
   "metadata": {},
   "outputs": [],
   "source": [
    "def calculate_errors(output_subdirectory):\n",
    "    for file in fileList:\n",
    "        if '.csv' in file:\n",
    "            df = pd.read_csv(data_directory + subdirectory + file)\n",
    "            error_df = calculate_euclidean_error(df)\n",
    "            error_df = calculate_cosine_error(error_df)\n",
    "            if not os.path.exists(os.path.join(data_directory, output_subdirectory)):\n",
    "                os.mkdir(os.path.join(data_directory, output_subdirectory))\n",
    "            error_df_output_path = data_directory + output_subdirectory + '/' + file\n",
    "            error_df.to_csv(error_df_output_path)\n",
    "            print(file)\n",
    "            print(\"uncalibrated: \" + str(error_df['euclideanError'].mean()))\n",
    "            print(\"calibrated: \" + str(error_df['recalibratedEuclideanError'].mean()))\n",
    "            print(\"cosine: \" + str(error_df['cosineError'].mean()))\n",
    "            print(\"\")"
   ]
  },
  {
   "cell_type": "code",
   "execution_count": 94,
   "metadata": {},
   "outputs": [
    {
     "name": "stdout",
     "output_type": "stream",
     "text": [
      "calibration_20230505152814_shifted0_recalibrated_calibration.csv\n",
      "uncalibrated: 3.5218710931403967\n",
      "calibrated: 1.3750222775786236\n",
      "cosine: 3.4481490072282646\n",
      "\n",
      "ssWalking_20230505151621_shifted0_recalibrated_calibration.csv\n",
      "uncalibrated: 58.680749909437125\n",
      "calibrated: 59.05894051928617\n",
      "cosine: 87.29929473821187\n",
      "\n",
      "hallway_20230505151948_shifted0_recalibrated_calibration.csv\n",
      "uncalibrated: 23.802873254107098\n",
      "calibrated: 21.935657831584766\n",
      "cosine: 23.357030049074694\n",
      "\n",
      "ssWalking_20230505153143_shifted48_recalibrated_calibration.csv\n",
      "uncalibrated: 58.67296853040874\n",
      "calibrated: 58.59052656358339\n",
      "cosine: 87.71927343697773\n",
      "\n",
      "wsBodyConstrained_20230505152935_shifted47_recalibrated_calibration.csv\n",
      "uncalibrated: 30.905100130347897\n",
      "calibrated: 32.47864436245205\n",
      "cosine: 29.876568996250125\n",
      "\n",
      "ssHeadConstrained_20230505153719_shifted27_recalibrated_calibration.csv\n",
      "uncalibrated: 3.673341330274581\n",
      "calibrated: 1.4496486973986875\n",
      "cosine: 3.606554441050856\n",
      "\n",
      "calibration_20230505154141_shifted0_recalibrated_calibration.csv\n",
      "uncalibrated: 5.808082341885803\n",
      "calibrated: 1.3173667384939163\n",
      "cosine: 5.662060902837031\n",
      "\n",
      "ssHeadConstrained_20230505152308_shifted26_recalibrated_calibration.csv\n",
      "uncalibrated: 3.9774973283020025\n",
      "calibrated: 2.155638540226666\n",
      "cosine: 3.902944852189482\n",
      "\n",
      "wsWalking_20230505153932_shifted26_recalibrated_calibration.csv\n",
      "uncalibrated: 56.28282916270716\n",
      "calibrated: 55.59928893321762\n",
      "cosine: 87.44112072588469\n",
      "\n",
      "wsBodyConstrained_20230505151239_shifted48_recalibrated_calibration.csv\n",
      "uncalibrated: 26.550755853534156\n",
      "calibrated: 27.94240372737408\n",
      "cosine: 25.884251071485945\n",
      "\n",
      "wsWalking_20230505152552_shifted0_recalibrated_calibration.csv\n",
      "uncalibrated: 57.783644577877915\n",
      "calibrated: 56.94447572693093\n",
      "cosine: 89.83425066513966\n",
      "\n",
      "hallway_20230505153353_shifted0_recalibrated_calibration.csv\n",
      "uncalibrated: 26.123582671511677\n",
      "calibrated: 24.087851165599716\n",
      "cosine: 25.620659064271365\n",
      "\n"
     ]
    }
   ],
   "source": [
    "calculate_errors(\"error\")"
   ]
  }
 ],
 "metadata": {
  "kernelspec": {
   "display_name": "base",
   "language": "python",
   "name": "python3"
  },
  "language_info": {
   "codemirror_mode": {
    "name": "ipython",
    "version": 3
   },
   "file_extension": ".py",
   "mimetype": "text/x-python",
   "name": "python",
   "nbconvert_exporter": "python",
   "pygments_lexer": "ipython3",
   "version": "3.8.5"
  },
  "orig_nbformat": 4
 },
 "nbformat": 4,
 "nbformat_minor": 2
}

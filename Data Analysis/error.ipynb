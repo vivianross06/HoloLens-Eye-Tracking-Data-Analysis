{
 "cells": [
  {
   "cell_type": "code",
   "execution_count": 1,
   "metadata": {},
   "outputs": [],
   "source": [
    "import numpy as np\n",
    "import pandas as pd\n",
    "import os"
   ]
  },
  {
   "cell_type": "code",
   "execution_count": 8,
   "metadata": {},
   "outputs": [],
   "source": [
    "data_directory = \"../Data/Study/B/38/\"\n",
    "subdirectory = \"recalibrated_calibration/\"\n",
    "fileList = os.listdir(data_directory + subdirectory)"
   ]
  },
  {
   "cell_type": "code",
   "execution_count": 9,
   "metadata": {},
   "outputs": [],
   "source": [
    "def clean_df(df):\n",
    "    result = df.loc[(df['Movement'] != \"start\") & (df['Movement'] != \"transition\") & (df['EyeTrackingEnabled'] == True) & (df['EyeCalibrationValid'] == True) & (df['EyeTrackingEnabledAndValid'] == True) & (df['EyeTrackingDataValid'] == True) & (df['GazeInputSource'] == \"Eyes\")].copy()\n",
    "    #result = result[result['Movement'] != \"transition\"]\n",
    "    #result = result[result['EyeTrackingDataValid'] == 'TRUE']\n",
    "    #result = result[result['GazeInputSource'] == 'Eyes']\n",
    "    result.reset_index(inplace=True, drop=True)\n",
    "    return result"
   ]
  },
  {
   "cell_type": "code",
   "execution_count": 10,
   "metadata": {},
   "outputs": [],
   "source": [
    "def calculate_cosine_error(df):\n",
    "    df['cosineError'] = df.apply(lambda row: np.degrees(np.arccos(np.dot(np.array((row['EyeGazeDirection.x'], row['EyeGazeDirection.y'], row['EyeGazeDirection.z'])), np.array((row['localTransform.position.x'], row['localTransform.position.y'], row['localTransform.position.z'])))/(np.linalg.norm(np.array((row['EyeGazeDirection.x'], row['EyeGazeDirection.y'], row['EyeGazeDirection.z']))) * np.linalg.norm(np.array((row['localTransform.position.x'], row['localTransform.position.y'], row['localTransform.position.z'])))))), axis=1)\n",
    "    return df"
   ]
  },
  {
   "cell_type": "code",
   "execution_count": 5,
   "metadata": {},
   "outputs": [],
   "source": [
    "def calculate_euclidean_error(df):\n",
    "    #df['euclideanError'] = df.apply(lambda row: np.linalg.norm(np.array((row['GazeAngleX'], row['GazeAngleY']))-np.array((row['TargetAngleX'], row['TargetAngleY']))), axis=1)\n",
    "    #df['recalibratedEuclideanError'] = df.apply(lambda row: np.linalg.norm(np.array((row['CalibratedGazeAngleX'], row['CalibratedGazeAngleY']))-np.array((row['TargetAngleX'], row['TargetAngleY']))), axis=1)\n",
    "    df['euclideanError'] = np.sqrt((df.GazeAngleX-df.TargetAngleX) * (df.GazeAngleX-df.TargetAngleX) + (df.GazeAngleY-df.TargetAngleY) * (df.GazeAngleY-df.TargetAngleY))\n",
    "    df['recalibratedEuclideanError'] = np.sqrt((df.CalibratedGazeAngleX-df.TargetAngleX) * (df.CalibratedGazeAngleX-df.TargetAngleX) + (df.CalibratedGazeAngleY-df.TargetAngleY) * (df.CalibratedGazeAngleY-df.TargetAngleY))\n",
    "    return df"
   ]
  },
  {
   "cell_type": "code",
   "execution_count": 6,
   "metadata": {},
   "outputs": [],
   "source": [
    "def calculate_errors(output_subdirectory):\n",
    "    for file in fileList:\n",
    "        if '.csv' in file:\n",
    "            df = pd.read_csv(data_directory + subdirectory + file)\n",
    "            error_df = calculate_euclidean_error(df)\n",
    "            error_df = calculate_cosine_error(error_df)\n",
    "            if not os.path.exists(os.path.join(data_directory, output_subdirectory)):\n",
    "                os.makedirs(os.path.join(data_directory, output_subdirectory))\n",
    "            error_df_output_path = data_directory + output_subdirectory + '/' + file\n",
    "            error_df.to_csv(error_df_output_path, index=False)\n",
    "            print(file)\n",
    "            print(\"uncalibrated: \" + str(error_df['euclideanError'].mean()))\n",
    "            print(\"calibrated: \" + str(error_df['recalibratedEuclideanError'].mean()))\n",
    "            print(\"cosine: \" + str(error_df['cosineError'].mean()))\n",
    "            print(\"\")"
   ]
  },
  {
   "cell_type": "code",
   "execution_count": 11,
   "metadata": {},
   "outputs": [
    {
     "name": "stdout",
     "output_type": "stream",
     "text": [
      "wsWalking_20230517124258_shifted40.csv\n",
      "uncalibrated: 60.80158847440196\n",
      "calibrated: 55.02214824788147\n",
      "cosine: 89.69660552972303\n",
      "\n",
      "ssWalking_20230517123600_shifted0.csv\n",
      "uncalibrated: 72.06183521649263\n",
      "calibrated: 66.2583480047209\n",
      "cosine: 90.3909342158098\n",
      "\n",
      "hallway_20230517122522_shifted0.csv\n",
      "uncalibrated: 26.728970821266902\n",
      "calibrated: 16.851970993116385\n",
      "cosine: 26.151548190538755\n",
      "\n",
      "hallway_20230517123814_shifted0.csv\n",
      "uncalibrated: 29.72932944387156\n",
      "calibrated: 19.855122477588633\n",
      "cosine: 28.932215140191182\n",
      "\n",
      "calibration_20230517123249_shifted0.csv\n",
      "uncalibrated: 11.517561051158458\n",
      "calibrated: 2.8282543039234116\n",
      "cosine: 11.181317969902489\n",
      "\n",
      "wsWalking_20230517123022_shifted26.csv\n",
      "uncalibrated: 59.849287239303536\n",
      "calibrated: 54.79364980290658\n",
      "cosine: 85.7364720171545\n",
      "\n",
      "ssHeadConstrained_20230517123349_shifted0.csv\n",
      "uncalibrated: 15.90271051772546\n",
      "calibrated: 4.110646627441549\n",
      "cosine: 15.548812361656717\n",
      "\n",
      "wsBodyConstrained_20230517124056_shifted47.csv\n",
      "uncalibrated: 23.988998437216992\n",
      "calibrated: 24.054410288733344\n",
      "cosine: 23.211828397261616\n",
      "\n",
      "wsBodyConstrained_20230517122814_shifted47.csv\n",
      "uncalibrated: 25.959574050088545\n",
      "calibrated: 25.46163984985795\n",
      "cosine: 25.02145669056554\n",
      "\n",
      "ssWalking_20230517122235_shifted48.csv\n",
      "uncalibrated: 72.23755057091354\n",
      "calibrated: 66.9144951911583\n",
      "cosine: 93.45992611741873\n",
      "\n",
      "calibration_20230517121910_shifted0.csv\n",
      "uncalibrated: 17.335837156463267\n",
      "calibrated: 3.8690082752489676\n",
      "cosine: 16.82119837516958\n",
      "\n",
      "ssHeadConstrained_20230517122014_shifted14.csv\n",
      "uncalibrated: 17.78460060834516\n",
      "calibrated: 4.1570176725277\n",
      "cosine: 17.36305909183022\n",
      "\n"
     ]
    }
   ],
   "source": [
    "calculate_errors(\"error/recalibrated_calibration\")"
   ]
  }
 ],
 "metadata": {
  "kernelspec": {
   "display_name": "base",
   "language": "python",
   "name": "python3"
  },
  "language_info": {
   "codemirror_mode": {
    "name": "ipython",
    "version": 3
   },
   "file_extension": ".py",
   "mimetype": "text/x-python",
   "name": "python",
   "nbconvert_exporter": "python",
   "pygments_lexer": "ipython3",
   "version": "3.8.5"
  },
  "orig_nbformat": 4
 },
 "nbformat": 4,
 "nbformat_minor": 2
}

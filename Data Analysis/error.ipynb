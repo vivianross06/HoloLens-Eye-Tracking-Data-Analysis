{
 "cells": [
  {
   "cell_type": "code",
   "execution_count": 1,
   "metadata": {},
   "outputs": [],
   "source": [
    "import numpy as np\n",
    "import pandas as pd\n",
    "import os"
   ]
  },
  {
   "cell_type": "code",
   "execution_count": 10,
   "metadata": {},
   "outputs": [],
   "source": [
    "data_directory = \"../Data/Study/15/\"\n",
    "subdirectory = \"recalibrated_calibration/\"\n",
    "fileList = os.listdir(data_directory + subdirectory)"
   ]
  },
  {
   "cell_type": "code",
   "execution_count": 3,
   "metadata": {},
   "outputs": [],
   "source": [
    "def clean_df(df):\n",
    "    result = df.loc[(df['Movement'] != \"start\") & (df['Movement'] != \"transition\") & (df['EyeTrackingEnabled'] == True) & (df['EyeCalibrationValid'] == True) & (df['EyeTrackingEnabledAndValid'] == True) & (df['EyeTrackingDataValid'] == True) & (df['GazeInputSource'] == \"Eyes\")].copy()\n",
    "    #result = result[result['Movement'] != \"transition\"]\n",
    "    #result = result[result['EyeTrackingDataValid'] == 'TRUE']\n",
    "    #result = result[result['GazeInputSource'] == 'Eyes']\n",
    "    result.reset_index(inplace=True, drop=True)\n",
    "    return result"
   ]
  },
  {
   "cell_type": "code",
   "execution_count": 4,
   "metadata": {},
   "outputs": [],
   "source": [
    "def calculate_cosine_error(df):\n",
    "    df['cosineError'] = df.apply(lambda row: np.degrees(np.arccos(np.dot(np.array((row['EyeGazeDirection.x'], row['EyeGazeDirection.y'], row['EyeGazeDirection.z'])), np.array((row['localTransform.position.x'], row['localTransform.position.y'], row['localTransform.position.z'])))/(np.linalg.norm(np.array((row['EyeGazeDirection.x'], row['EyeGazeDirection.y'], row['EyeGazeDirection.z']))) * np.linalg.norm(np.array((row['localTransform.position.x'], row['localTransform.position.y'], row['localTransform.position.z'])))))), axis=1)\n",
    "    return df"
   ]
  },
  {
   "cell_type": "code",
   "execution_count": 5,
   "metadata": {},
   "outputs": [],
   "source": [
    "def calculate_euclidean_error(df):\n",
    "    #df['euclideanError'] = df.apply(lambda row: np.linalg.norm(np.array((row['GazeAngleX'], row['GazeAngleY']))-np.array((row['TargetAngleX'], row['TargetAngleY']))), axis=1)\n",
    "    #df['recalibratedEuclideanError'] = df.apply(lambda row: np.linalg.norm(np.array((row['CalibratedGazeAngleX'], row['CalibratedGazeAngleY']))-np.array((row['TargetAngleX'], row['TargetAngleY']))), axis=1)\n",
    "    df['euclideanError'] = np.sqrt((df.GazeAngleX-df.TargetAngleX) * (df.GazeAngleX-df.TargetAngleX) + (df.GazeAngleY-df.TargetAngleY) * (df.GazeAngleY-df.TargetAngleY))\n",
    "    df['recalibratedEuclideanError'] = np.sqrt((df.CalibratedGazeAngleX-df.TargetAngleX) * (df.CalibratedGazeAngleX-df.TargetAngleX) + (df.CalibratedGazeAngleY-df.TargetAngleY) * (df.CalibratedGazeAngleY-df.TargetAngleY))\n",
    "    return df"
   ]
  },
  {
   "cell_type": "code",
   "execution_count": 6,
   "metadata": {},
   "outputs": [],
   "source": [
    "def calculate_errors(output_subdirectory):\n",
    "    for file in fileList:\n",
    "        if '.csv' in file:\n",
    "            df = pd.read_csv(data_directory + subdirectory + file)\n",
    "            error_df = calculate_euclidean_error(df)\n",
    "            error_df = calculate_cosine_error(error_df)\n",
    "            if not os.path.exists(os.path.join(data_directory, output_subdirectory)):\n",
    "                os.makedirs(os.path.join(data_directory, output_subdirectory))\n",
    "            error_df_output_path = data_directory + output_subdirectory + '/' + file\n",
    "            error_df.to_csv(error_df_output_path)\n",
    "            print(file)\n",
    "            print(\"uncalibrated: \" + str(error_df['euclideanError'].mean()))\n",
    "            print(\"calibrated: \" + str(error_df['recalibratedEuclideanError'].mean()))\n",
    "            print(\"cosine: \" + str(error_df['cosineError'].mean()))\n",
    "            print(\"\")"
   ]
  },
  {
   "cell_type": "code",
   "execution_count": 11,
   "metadata": {},
   "outputs": [
    {
     "name": "stdout",
     "output_type": "stream",
     "text": [
      "wsBodyConstrained_20230510143054_shifted14.csv\n",
      "uncalibrated: 19.331888945367353\n",
      "calibrated: 20.881974990632234\n",
      "cosine: 18.853043111114967\n",
      "\n",
      "calibration_20230510143521_shifted0.csv\n",
      "uncalibrated: 24.86220166863082\n",
      "calibrated: 3.551348628157965\n",
      "cosine: 24.120433508886574\n",
      "\n",
      "hallway_20230510142519_shifted0.csv\n",
      "uncalibrated: 30.797882229126493\n",
      "calibrated: 27.24360502249044\n",
      "cosine: 29.598264612852905\n",
      "\n",
      "ssHeadConstrained_20230510141217_shifted24.csv\n",
      "uncalibrated: 16.1611003229027\n",
      "calibrated: 4.856752758311161\n",
      "cosine: 15.785294652700175\n",
      "\n",
      "ssHeadConstrained_20230510142849_shifted22.csv\n",
      "uncalibrated: 24.80781495067612\n",
      "calibrated: 3.4550414955989273\n",
      "cosine: 24.246141419734503\n",
      "\n",
      "wsWalking_20230510141758_shifted7.csv\n",
      "uncalibrated: 60.96248066455618\n",
      "calibrated: 53.01078791348926\n",
      "cosine: 84.9533666742762\n",
      "\n",
      "hallway_20230510143938_shifted0.csv\n",
      "uncalibrated: 26.320463026285665\n",
      "calibrated: 22.947919530764597\n",
      "cosine: 25.601765283979947\n",
      "\n",
      "calibration_20230510142013_shifted0.csv\n",
      "uncalibrated: 18.89007273968811\n",
      "calibrated: 5.515773886680209\n",
      "cosine: 18.405509793549474\n",
      "\n",
      "ssWalking_20230510142217_shifted47.csv\n",
      "uncalibrated: 60.48639929497718\n",
      "calibrated: 54.3210795272414\n",
      "cosine: 88.30079174601448\n",
      "\n",
      "wsWalking_20230510143308_shifted31.csv\n",
      "uncalibrated: 60.201608063119146\n",
      "calibrated: 53.37926007886948\n",
      "cosine: 82.82724250420974\n",
      "\n",
      "ssWalking_20230510143650_shifted0.csv\n",
      "uncalibrated: 62.9006380506635\n",
      "calibrated: 55.17456693217236\n",
      "cosine: 89.29585278624769\n",
      "\n",
      "wsBodyConstrained_20230510141442_shifted0.csv\n",
      "uncalibrated: 18.468440371245144\n",
      "calibrated: 22.977706873475686\n",
      "cosine: 18.05425071899516\n",
      "\n"
     ]
    }
   ],
   "source": [
    "calculate_errors(\"error/recalibrated_calibration\")"
   ]
  }
 ],
 "metadata": {
  "kernelspec": {
   "display_name": "base",
   "language": "python",
   "name": "python3"
  },
  "language_info": {
   "codemirror_mode": {
    "name": "ipython",
    "version": 3
   },
   "file_extension": ".py",
   "mimetype": "text/x-python",
   "name": "python",
   "nbconvert_exporter": "python",
   "pygments_lexer": "ipython3",
   "version": "3.8.5"
  },
  "orig_nbformat": 4
 },
 "nbformat": 4,
 "nbformat_minor": 2
}

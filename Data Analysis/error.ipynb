{
 "cells": [
  {
   "cell_type": "code",
   "execution_count": 119,
   "metadata": {},
   "outputs": [],
   "source": [
    "import numpy as np\n",
    "import pandas as pd\n",
    "import os"
   ]
  },
  {
   "cell_type": "code",
   "execution_count": 144,
   "metadata": {},
   "outputs": [],
   "source": [
    "data_directory = \"../Data/Study/10/\"\n",
    "subdirectory = \"recalibrated_calibration/\"\n",
    "fileList = os.listdir(data_directory + subdirectory)"
   ]
  },
  {
   "cell_type": "code",
   "execution_count": 145,
   "metadata": {},
   "outputs": [],
   "source": [
    "def clean_df(df):\n",
    "    result = df.loc[(df['Movement'] != \"start\") & (df['Movement'] != \"transition\") & (df['EyeTrackingEnabled'] == True) & (df['EyeCalibrationValid'] == True) & (df['EyeTrackingEnabledAndValid'] == True) & (df['EyeTrackingDataValid'] == True) & (df['GazeInputSource'] == \"Eyes\")].copy()\n",
    "    #result = result[result['Movement'] != \"transition\"]\n",
    "    #result = result[result['EyeTrackingDataValid'] == 'TRUE']\n",
    "    #result = result[result['GazeInputSource'] == 'Eyes']\n",
    "    result.reset_index(inplace=True, drop=True)\n",
    "    return result"
   ]
  },
  {
   "cell_type": "code",
   "execution_count": 146,
   "metadata": {},
   "outputs": [],
   "source": [
    "def calculate_cosine_error(df):\n",
    "    df['cosineError'] = df.apply(lambda row: np.degrees(np.arccos(np.dot(np.array((row['EyeGazeDirection.x'], row['EyeGazeDirection.y'], row['EyeGazeDirection.z'])), np.array((row['localTransform.position.x'], row['localTransform.position.y'], row['localTransform.position.z'])))/(np.linalg.norm(np.array((row['EyeGazeDirection.x'], row['EyeGazeDirection.y'], row['EyeGazeDirection.z']))) * np.linalg.norm(np.array((row['localTransform.position.x'], row['localTransform.position.y'], row['localTransform.position.z'])))))), axis=1)\n",
    "    return df"
   ]
  },
  {
   "cell_type": "code",
   "execution_count": 147,
   "metadata": {},
   "outputs": [],
   "source": [
    "def calculate_euclidean_error(df):\n",
    "    #df['euclideanError'] = df.apply(lambda row: np.linalg.norm(np.array((row['GazeAngleX'], row['GazeAngleY']))-np.array((row['TargetAngleX'], row['TargetAngleY']))), axis=1)\n",
    "    #df['recalibratedEuclideanError'] = df.apply(lambda row: np.linalg.norm(np.array((row['CalibratedGazeAngleX'], row['CalibratedGazeAngleY']))-np.array((row['TargetAngleX'], row['TargetAngleY']))), axis=1)\n",
    "    df['euclideanError'] = np.sqrt((df.GazeAngleX-df.TargetAngleX) * (df.GazeAngleX-df.TargetAngleX) + (df.GazeAngleY-df.TargetAngleY) * (df.GazeAngleY-df.TargetAngleY))\n",
    "    df['recalibratedEuclideanError'] = np.sqrt((df.CalibratedGazeAngleX-df.TargetAngleX) * (df.CalibratedGazeAngleX-df.TargetAngleX) + (df.CalibratedGazeAngleY-df.TargetAngleY) * (df.CalibratedGazeAngleY-df.TargetAngleY))\n",
    "    return df"
   ]
  },
  {
   "cell_type": "code",
   "execution_count": 148,
   "metadata": {},
   "outputs": [],
   "source": [
    "def calculate_errors(output_subdirectory):\n",
    "    for file in fileList:\n",
    "        if '.csv' in file:\n",
    "            df = pd.read_csv(data_directory + subdirectory + file)\n",
    "            error_df = calculate_euclidean_error(df)\n",
    "            error_df = calculate_cosine_error(error_df)\n",
    "            if not os.path.exists(os.path.join(data_directory, output_subdirectory)):\n",
    "                os.makedirs(os.path.join(data_directory, output_subdirectory))\n",
    "            error_df_output_path = data_directory + output_subdirectory + '/' + file\n",
    "            error_df.to_csv(error_df_output_path)\n",
    "            print(file)\n",
    "            print(\"uncalibrated: \" + str(error_df['euclideanError'].mean()))\n",
    "            print(\"calibrated: \" + str(error_df['recalibratedEuclideanError'].mean()))\n",
    "            print(\"cosine: \" + str(error_df['cosineError'].mean()))\n",
    "            print(\"\")"
   ]
  },
  {
   "cell_type": "code",
   "execution_count": 149,
   "metadata": {},
   "outputs": [
    {
     "name": "stdout",
     "output_type": "stream",
     "text": [
      "ssWalking_20230508172035_shifted47_recalibrated_calibration.csv\n",
      "uncalibrated: 56.879648307892474\n",
      "calibrated: 55.47346620084003\n",
      "cosine: 88.08695424944115\n",
      "\n",
      "calibration_20230508170957_shifted3_recalibrated_calibration.csv\n",
      "uncalibrated: 2.130422665712205\n",
      "calibrated: 1.4775978595732067\n",
      "cosine: 2.0970416164332666\n",
      "\n",
      "ssHeadConstrained_20230508173141_shifted25_recalibrated_calibration.csv\n",
      "uncalibrated: 1.5928472427956035\n",
      "calibrated: 1.8447459709031473\n",
      "cosine: 1.5690799094633854\n",
      "\n",
      "ssWalking_20230508170536_shifted39_recalibrated_calibration.csv\n",
      "uncalibrated: 57.515492131952236\n",
      "calibrated: 56.02134348783596\n",
      "cosine: 89.21866375859382\n",
      "\n",
      "hallway_20230508172901_shifted0_recalibrated_calibration.csv\n",
      "uncalibrated: 25.202869918419065\n",
      "calibrated: 24.637411196783006\n",
      "cosine: 24.14644397579547\n",
      "\n",
      "wsBodyConstrained_20230508172558_shifted48_recalibrated_calibration.csv\n",
      "uncalibrated: 23.433609872381712\n",
      "calibrated: 22.430901719066874\n",
      "cosine: 22.760116109568415\n",
      "\n",
      "wsWalking_20230508172238_shifted48_recalibrated_calibration.csv\n",
      "uncalibrated: 57.28777450254457\n",
      "calibrated: 55.82249897760189\n",
      "cosine: 85.37012962821706\n",
      "\n",
      "wsWalking_20230508170749_shifted42_recalibrated_calibration.csv\n",
      "uncalibrated: 56.915041020939206\n",
      "calibrated: 55.30027590109776\n",
      "cosine: 87.28095556194009\n",
      "\n",
      "calibration_20230508172446_shifted4_recalibrated_calibration.csv\n",
      "uncalibrated: 3.063270363453801\n",
      "calibrated: 1.5231267454648274\n",
      "cosine: 3.026283683430343\n",
      "\n",
      "wsBodyConstrained_20230508171127_shifted47_recalibrated_calibration.csv\n",
      "uncalibrated: 21.535471618032133\n",
      "calibrated: 20.612504200151935\n",
      "cosine: 21.034450937116695\n",
      "\n",
      "hallway_20230508171446_shifted0_recalibrated_calibration.csv\n",
      "uncalibrated: 26.36508896582738\n",
      "calibrated: 25.84540350510404\n",
      "cosine: 25.30399761391442\n",
      "\n",
      "ssHeadConstrained_20230508171806_shifted25_recalibrated_calibration.csv\n",
      "uncalibrated: 1.9472658098597597\n",
      "calibrated: 3.6874550505611223\n",
      "cosine: 1.927248184622755\n",
      "\n"
     ]
    }
   ],
   "source": [
    "calculate_errors(\"error/recalibrated_calibration\")"
   ]
  }
 ],
 "metadata": {
  "kernelspec": {
   "display_name": "base",
   "language": "python",
   "name": "python3"
  },
  "language_info": {
   "codemirror_mode": {
    "name": "ipython",
    "version": 3
   },
   "file_extension": ".py",
   "mimetype": "text/x-python",
   "name": "python",
   "nbconvert_exporter": "python",
   "pygments_lexer": "ipython3",
   "version": "3.8.5"
  },
  "orig_nbformat": 4
 },
 "nbformat": 4,
 "nbformat_minor": 2
}

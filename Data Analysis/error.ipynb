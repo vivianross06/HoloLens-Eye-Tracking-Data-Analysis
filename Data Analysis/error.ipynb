{
 "cells": [
  {
   "cell_type": "code",
   "execution_count": 14,
   "metadata": {},
   "outputs": [],
   "source": [
    "import numpy as np\n",
    "import pandas as pd\n",
    "import os"
   ]
  },
  {
   "cell_type": "code",
   "execution_count": 34,
   "metadata": {},
   "outputs": [],
   "source": [
    "data_directory = \"../Data/Study/B/24/\"\n",
    "subdirectory = \"recalibrated_calibration/\"\n",
    "fileList = os.listdir(data_directory + subdirectory)"
   ]
  },
  {
   "cell_type": "code",
   "execution_count": 16,
   "metadata": {},
   "outputs": [],
   "source": [
    "def clean_df(df):\n",
    "    result = df.loc[(df['Movement'] != \"start\") & (df['Movement'] != \"transition\") & (df['EyeTrackingEnabled'] == True) & (df['EyeCalibrationValid'] == True) & (df['EyeTrackingEnabledAndValid'] == True) & (df['EyeTrackingDataValid'] == True) & (df['GazeInputSource'] == \"Eyes\")].copy()\n",
    "    #result = result[result['Movement'] != \"transition\"]\n",
    "    #result = result[result['EyeTrackingDataValid'] == 'TRUE']\n",
    "    #result = result[result['GazeInputSource'] == 'Eyes']\n",
    "    result.reset_index(inplace=True, drop=True)\n",
    "    return result"
   ]
  },
  {
   "cell_type": "code",
   "execution_count": 17,
   "metadata": {},
   "outputs": [],
   "source": [
    "def calculate_cosine_error(df):\n",
    "    df['cosineError'] = df.apply(lambda row: np.degrees(np.arccos(np.dot(np.array((row['EyeGazeDirection.x'], row['EyeGazeDirection.y'], row['EyeGazeDirection.z'])), np.array((row['localTransform.position.x'], row['localTransform.position.y'], row['localTransform.position.z'])))/(np.linalg.norm(np.array((row['EyeGazeDirection.x'], row['EyeGazeDirection.y'], row['EyeGazeDirection.z']))) * np.linalg.norm(np.array((row['localTransform.position.x'], row['localTransform.position.y'], row['localTransform.position.z'])))))), axis=1)\n",
    "    return df"
   ]
  },
  {
   "cell_type": "code",
   "execution_count": 18,
   "metadata": {},
   "outputs": [],
   "source": [
    "def calculate_euclidean_error(df):\n",
    "    #df['euclideanError'] = df.apply(lambda row: np.linalg.norm(np.array((row['GazeAngleX'], row['GazeAngleY']))-np.array((row['TargetAngleX'], row['TargetAngleY']))), axis=1)\n",
    "    #df['recalibratedEuclideanError'] = df.apply(lambda row: np.linalg.norm(np.array((row['CalibratedGazeAngleX'], row['CalibratedGazeAngleY']))-np.array((row['TargetAngleX'], row['TargetAngleY']))), axis=1)\n",
    "    df['euclideanError'] = np.sqrt((df.GazeAngleX-df.TargetAngleX) * (df.GazeAngleX-df.TargetAngleX) + (df.GazeAngleY-df.TargetAngleY) * (df.GazeAngleY-df.TargetAngleY))\n",
    "    df['recalibratedEuclideanError'] = np.sqrt((df.CalibratedGazeAngleX-df.TargetAngleX) * (df.CalibratedGazeAngleX-df.TargetAngleX) + (df.CalibratedGazeAngleY-df.TargetAngleY) * (df.CalibratedGazeAngleY-df.TargetAngleY))\n",
    "    return df"
   ]
  },
  {
   "cell_type": "code",
   "execution_count": 20,
   "metadata": {},
   "outputs": [],
   "source": [
    "def calculate_errors(output_subdirectory):\n",
    "    for file in fileList:\n",
    "        if '.csv' in file:\n",
    "            df = pd.read_csv(data_directory + subdirectory + file)\n",
    "            error_df = calculate_euclidean_error(df)\n",
    "            error_df = calculate_cosine_error(error_df)\n",
    "            if not os.path.exists(os.path.join(data_directory, output_subdirectory)):\n",
    "                os.makedirs(os.path.join(data_directory, output_subdirectory))\n",
    "            error_df_output_path = data_directory + output_subdirectory + '/' + file\n",
    "            error_df.to_csv(error_df_output_path, index=False)\n",
    "            print(file)\n",
    "            print(\"uncalibrated: \" + str(error_df['euclideanError'].mean()))\n",
    "            print(\"calibrated: \" + str(error_df['recalibratedEuclideanError'].mean()))\n",
    "            print(\"cosine: \" + str(error_df['cosineError'].mean()))\n",
    "            print(\"\")"
   ]
  },
  {
   "cell_type": "code",
   "execution_count": 35,
   "metadata": {},
   "outputs": [
    {
     "name": "stdout",
     "output_type": "stream",
     "text": [
      "calibration_20230515112435_shifted0.csv\n",
      "uncalibrated: 22.89399974734768\n",
      "calibrated: 1.2104874013717564\n",
      "cosine: 22.34607049539229\n",
      "\n",
      "hallway_20230515113725_shifted12.csv\n",
      "uncalibrated: 33.22544518328541\n",
      "calibrated: 16.26713758180728\n",
      "cosine: 30.97210245504022\n",
      "\n",
      "calibration_20230515114021_shifted0.csv\n",
      "uncalibrated: 22.974303061877\n",
      "calibrated: 1.3398930978127737\n",
      "cosine: 22.27853885971857\n",
      "\n",
      "hallway_20230515112155_shifted11.csv\n",
      "uncalibrated: 33.48748214882066\n",
      "calibrated: 15.419188240759723\n",
      "cosine: 31.524075270779697\n",
      "\n",
      "wsWalking_20230515114334_shifted0.csv\n",
      "uncalibrated: 65.021846356387\n",
      "calibrated: 63.55229159769896\n",
      "cosine: 85.52846251805279\n",
      "\n",
      "ssWalking_20230515113341_shifted0.csv\n",
      "uncalibrated: 65.11052496063479\n",
      "calibrated: 64.79376825745628\n",
      "cosine: 85.58350719509335\n",
      "\n",
      "ssWalking_20230515114756_shifted31.csv\n",
      "uncalibrated: 61.5711934737432\n",
      "calibrated: 59.87027972630747\n",
      "cosine: 85.49157452080505\n",
      "\n",
      "wsBodyConstrained_20230515112557_shifted0.csv\n",
      "uncalibrated: 22.49189065887031\n",
      "calibrated: 23.06180792360145\n",
      "cosine: 21.756046082987268\n",
      "\n",
      "wsWalking_20230515112841_shifted47.csv\n",
      "uncalibrated: 66.54527520034972\n",
      "calibrated: 64.27419968538517\n",
      "cosine: 88.2774588631914\n",
      "\n",
      "ssHeadConstrained_20230515113100_shifted30.csv\n",
      "uncalibrated: 20.306367355071828\n",
      "calibrated: 3.944013970233032\n",
      "cosine: 19.852637537823977\n",
      "\n",
      "wsBodyConstrained_20230515114132_shifted11.csv\n",
      "uncalibrated: 22.51736009741209\n",
      "calibrated: 24.077429661948756\n",
      "cosine: 21.61671271624507\n",
      "\n",
      "ssHeadConstrained_20230515114551_shifted30.csv\n",
      "uncalibrated: 22.617321545937997\n",
      "calibrated: 2.66641739332983\n",
      "cosine: 22.1224920375045\n",
      "\n"
     ]
    }
   ],
   "source": [
    "calculate_errors(\"error/recalibrated_calibration\")"
   ]
  }
 ],
 "metadata": {
  "kernelspec": {
   "display_name": "base",
   "language": "python",
   "name": "python3"
  },
  "language_info": {
   "codemirror_mode": {
    "name": "ipython",
    "version": 3
   },
   "file_extension": ".py",
   "mimetype": "text/x-python",
   "name": "python",
   "nbconvert_exporter": "python",
   "pygments_lexer": "ipython3",
   "version": "3.8.5"
  },
  "orig_nbformat": 4
 },
 "nbformat": 4,
 "nbformat_minor": 2
}

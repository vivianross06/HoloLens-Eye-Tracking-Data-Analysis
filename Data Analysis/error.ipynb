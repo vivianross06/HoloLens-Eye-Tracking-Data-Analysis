{
 "cells": [
  {
   "cell_type": "code",
   "execution_count": 74,
   "metadata": {},
   "outputs": [],
   "source": [
    "import numpy as np\n",
    "import pandas as pd\n",
    "import os"
   ]
  },
  {
   "cell_type": "code",
   "execution_count": 117,
   "metadata": {},
   "outputs": [],
   "source": [
    "data_directory = \"../Data/Study/05/moving/\"\n",
    "subdirectory = \"recalibrated_calibration/\"\n",
    "fileList = os.listdir(data_directory + subdirectory)"
   ]
  },
  {
   "cell_type": "code",
   "execution_count": 96,
   "metadata": {},
   "outputs": [],
   "source": [
    "def clean_df(df):\n",
    "    result = df.loc[(df['Movement'] != \"start\") & (df['Movement'] != \"transition\") & (df['EyeTrackingEnabled'] == True) & (df['EyeCalibrationValid'] == True) & (df['EyeTrackingEnabledAndValid'] == True) & (df['EyeTrackingDataValid'] == True) & (df['GazeInputSource'] == \"Eyes\")].copy()\n",
    "    #result = result[result['Movement'] != \"transition\"]\n",
    "    #result = result[result['EyeTrackingDataValid'] == 'TRUE']\n",
    "    #result = result[result['GazeInputSource'] == 'Eyes']\n",
    "    result.reset_index(inplace=True, drop=True)\n",
    "    return result"
   ]
  },
  {
   "cell_type": "code",
   "execution_count": 97,
   "metadata": {},
   "outputs": [],
   "source": [
    "def calculate_cosine_error(df):\n",
    "    df['cosineError'] = df.apply(lambda row: np.degrees(np.arccos(np.dot(np.array((row['EyeGazeDirection.x'], row['EyeGazeDirection.y'], row['EyeGazeDirection.z'])), np.array((row['localTransform.position.x'], row['localTransform.position.y'], row['localTransform.position.z'])))/(np.linalg.norm(np.array((row['EyeGazeDirection.x'], row['EyeGazeDirection.y'], row['EyeGazeDirection.z']))) * np.linalg.norm(np.array((row['localTransform.position.x'], row['localTransform.position.y'], row['localTransform.position.z'])))))), axis=1)\n",
    "    return df"
   ]
  },
  {
   "cell_type": "code",
   "execution_count": 98,
   "metadata": {},
   "outputs": [],
   "source": [
    "def calculate_euclidean_error(df):\n",
    "    #df['euclideanError'] = df.apply(lambda row: np.linalg.norm(np.array((row['GazeAngleX'], row['GazeAngleY']))-np.array((row['TargetAngleX'], row['TargetAngleY']))), axis=1)\n",
    "    #df['recalibratedEuclideanError'] = df.apply(lambda row: np.linalg.norm(np.array((row['CalibratedGazeAngleX'], row['CalibratedGazeAngleY']))-np.array((row['TargetAngleX'], row['TargetAngleY']))), axis=1)\n",
    "    df['euclideanError'] = np.sqrt((df.GazeAngleX-df.TargetAngleX) * (df.GazeAngleX-df.TargetAngleX) + (df.GazeAngleY-df.TargetAngleY) * (df.GazeAngleY-df.TargetAngleY))\n",
    "    df['recalibratedEuclideanError'] = np.sqrt((df.CalibratedGazeAngleX-df.TargetAngleX) * (df.CalibratedGazeAngleX-df.TargetAngleX) + (df.CalibratedGazeAngleY-df.TargetAngleY) * (df.CalibratedGazeAngleY-df.TargetAngleY))\n",
    "    return df"
   ]
  },
  {
   "cell_type": "code",
   "execution_count": 99,
   "metadata": {},
   "outputs": [],
   "source": [
    "def calculate_errors(output_subdirectory):\n",
    "    for file in fileList:\n",
    "        if '.csv' in file:\n",
    "            df = pd.read_csv(data_directory + subdirectory + file)\n",
    "            error_df = calculate_euclidean_error(df)\n",
    "            error_df = calculate_cosine_error(error_df)\n",
    "            if not os.path.exists(os.path.join(data_directory, output_subdirectory)):\n",
    "                os.mkdir(os.path.join(data_directory, output_subdirectory))\n",
    "            error_df_output_path = data_directory + output_subdirectory + '/' + file\n",
    "            error_df.to_csv(error_df_output_path)\n",
    "            print(file)\n",
    "            print(\"uncalibrated: \" + str(error_df['euclideanError'].mean()))\n",
    "            print(\"calibrated: \" + str(error_df['recalibratedEuclideanError'].mean()))\n",
    "            print(\"cosine: \" + str(error_df['cosineError'].mean()))\n",
    "            print(\"\")"
   ]
  },
  {
   "cell_type": "code",
   "execution_count": 118,
   "metadata": {},
   "outputs": [
    {
     "name": "stdout",
     "output_type": "stream",
     "text": [
      "calibration_20230505152814_shifted0_recalibrated_calibration.csv\n",
      "uncalibrated: 3.5218710931403967\n",
      "calibrated: 1.3750222775786236\n",
      "cosine: 3.4481490072282646\n",
      "\n",
      "ssHeadConstrained_20230505152308_shifted26_moving_recalibrated_calibration.csv\n",
      "uncalibrated: 3.9770166926757153\n",
      "calibrated: 2.217910315986425\n",
      "cosine: 3.9145337939709623\n",
      "\n",
      "wsWalking_20230505153932_shifted26_moving_recalibrated_calibration.csv\n",
      "uncalibrated: 52.71128124371812\n",
      "calibrated: 52.415947859843236\n",
      "cosine: 87.51748923983907\n",
      "\n",
      "wsWalking_20230505152552_shifted0_moving_recalibrated_calibration.csv\n",
      "uncalibrated: 65.19725697092312\n",
      "calibrated: 64.44306225339558\n",
      "cosine: 89.8910202753688\n",
      "\n",
      "hallway_20230505153353_shifted0_moving_recalibrated_calibration.csv\n",
      "uncalibrated: 23.680789090210453\n",
      "calibrated: 21.406833787617614\n",
      "cosine: 23.2139466553226\n",
      "\n",
      "ssWalking_20230505151621_shifted0_moving_recalibrated_calibration.csv\n",
      "uncalibrated: 58.25925487280699\n",
      "calibrated: 58.82922955453636\n",
      "cosine: 86.2426382704535\n",
      "\n",
      "wsBodyConstrained_20230505151239_shifted48_moving_recalibrated_calibration.csv\n",
      "uncalibrated: 24.607381834486965\n",
      "calibrated: 26.26700181195651\n",
      "cosine: 24.090080391332567\n",
      "\n",
      "calibration_20230505154141_shifted0_recalibrated_calibration.csv\n",
      "uncalibrated: 5.808082341885803\n",
      "calibrated: 1.3173667384939163\n",
      "cosine: 5.662060902837031\n",
      "\n",
      "ssHeadConstrained_20230505153719_shifted27_moving_recalibrated_calibration.csv\n",
      "uncalibrated: 3.771858595333493\n",
      "calibrated: 1.4605732538314775\n",
      "cosine: 3.715165682029081\n",
      "\n",
      "ssWalking_20230505153143_shifted48_moving_recalibrated_calibration.csv\n",
      "uncalibrated: 58.73006662816784\n",
      "calibrated: 58.553972675443255\n",
      "cosine: 88.35390346923228\n",
      "\n",
      "hallway_20230505151948_shifted0_moving_recalibrated_calibration.csv\n",
      "uncalibrated: 21.567343680897352\n",
      "calibrated: 19.506915033404283\n",
      "cosine: 21.16548938943701\n",
      "\n",
      "wsBodyConstrained_20230505152935_shifted47_moving_recalibrated_calibration.csv\n",
      "uncalibrated: 29.197219422301718\n",
      "calibrated: 31.047810155951552\n",
      "cosine: 28.329179287935037\n",
      "\n"
     ]
    }
   ],
   "source": [
    "calculate_errors(\"error\")"
   ]
  }
 ],
 "metadata": {
  "kernelspec": {
   "display_name": "base",
   "language": "python",
   "name": "python3"
  },
  "language_info": {
   "codemirror_mode": {
    "name": "ipython",
    "version": 3
   },
   "file_extension": ".py",
   "mimetype": "text/x-python",
   "name": "python",
   "nbconvert_exporter": "python",
   "pygments_lexer": "ipython3",
   "version": "3.8.5"
  },
  "orig_nbformat": 4
 },
 "nbformat": 4,
 "nbformat_minor": 2
}

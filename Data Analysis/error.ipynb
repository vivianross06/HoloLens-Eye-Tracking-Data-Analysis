{
 "cells": [
  {
   "cell_type": "code",
   "execution_count": 14,
   "metadata": {},
   "outputs": [],
   "source": [
    "import numpy as np\n",
    "import pandas as pd\n",
    "import os"
   ]
  },
  {
   "cell_type": "code",
   "execution_count": 58,
   "metadata": {},
   "outputs": [],
   "source": [
    "data_directory = \"../Data/Study/B/35/\"\n",
    "subdirectory = \"recalibrated_calibration/\"\n",
    "fileList = os.listdir(data_directory + subdirectory)"
   ]
  },
  {
   "cell_type": "code",
   "execution_count": 16,
   "metadata": {},
   "outputs": [],
   "source": [
    "def clean_df(df):\n",
    "    result = df.loc[(df['Movement'] != \"start\") & (df['Movement'] != \"transition\") & (df['EyeTrackingEnabled'] == True) & (df['EyeCalibrationValid'] == True) & (df['EyeTrackingEnabledAndValid'] == True) & (df['EyeTrackingDataValid'] == True) & (df['GazeInputSource'] == \"Eyes\")].copy()\n",
    "    #result = result[result['Movement'] != \"transition\"]\n",
    "    #result = result[result['EyeTrackingDataValid'] == 'TRUE']\n",
    "    #result = result[result['GazeInputSource'] == 'Eyes']\n",
    "    result.reset_index(inplace=True, drop=True)\n",
    "    return result"
   ]
  },
  {
   "cell_type": "code",
   "execution_count": 17,
   "metadata": {},
   "outputs": [],
   "source": [
    "def calculate_cosine_error(df):\n",
    "    df['cosineError'] = df.apply(lambda row: np.degrees(np.arccos(np.dot(np.array((row['EyeGazeDirection.x'], row['EyeGazeDirection.y'], row['EyeGazeDirection.z'])), np.array((row['localTransform.position.x'], row['localTransform.position.y'], row['localTransform.position.z'])))/(np.linalg.norm(np.array((row['EyeGazeDirection.x'], row['EyeGazeDirection.y'], row['EyeGazeDirection.z']))) * np.linalg.norm(np.array((row['localTransform.position.x'], row['localTransform.position.y'], row['localTransform.position.z'])))))), axis=1)\n",
    "    return df"
   ]
  },
  {
   "cell_type": "code",
   "execution_count": 18,
   "metadata": {},
   "outputs": [],
   "source": [
    "def calculate_euclidean_error(df):\n",
    "    #df['euclideanError'] = df.apply(lambda row: np.linalg.norm(np.array((row['GazeAngleX'], row['GazeAngleY']))-np.array((row['TargetAngleX'], row['TargetAngleY']))), axis=1)\n",
    "    #df['recalibratedEuclideanError'] = df.apply(lambda row: np.linalg.norm(np.array((row['CalibratedGazeAngleX'], row['CalibratedGazeAngleY']))-np.array((row['TargetAngleX'], row['TargetAngleY']))), axis=1)\n",
    "    df['euclideanError'] = np.sqrt((df.GazeAngleX-df.TargetAngleX) * (df.GazeAngleX-df.TargetAngleX) + (df.GazeAngleY-df.TargetAngleY) * (df.GazeAngleY-df.TargetAngleY))\n",
    "    df['recalibratedEuclideanError'] = np.sqrt((df.CalibratedGazeAngleX-df.TargetAngleX) * (df.CalibratedGazeAngleX-df.TargetAngleX) + (df.CalibratedGazeAngleY-df.TargetAngleY) * (df.CalibratedGazeAngleY-df.TargetAngleY))\n",
    "    return df"
   ]
  },
  {
   "cell_type": "code",
   "execution_count": 20,
   "metadata": {},
   "outputs": [],
   "source": [
    "def calculate_errors(output_subdirectory):\n",
    "    for file in fileList:\n",
    "        if '.csv' in file:\n",
    "            df = pd.read_csv(data_directory + subdirectory + file)\n",
    "            error_df = calculate_euclidean_error(df)\n",
    "            error_df = calculate_cosine_error(error_df)\n",
    "            if not os.path.exists(os.path.join(data_directory, output_subdirectory)):\n",
    "                os.makedirs(os.path.join(data_directory, output_subdirectory))\n",
    "            error_df_output_path = data_directory + output_subdirectory + '/' + file\n",
    "            error_df.to_csv(error_df_output_path, index=False)\n",
    "            print(file)\n",
    "            print(\"uncalibrated: \" + str(error_df['euclideanError'].mean()))\n",
    "            print(\"calibrated: \" + str(error_df['recalibratedEuclideanError'].mean()))\n",
    "            print(\"cosine: \" + str(error_df['cosineError'].mean()))\n",
    "            print(\"\")"
   ]
  },
  {
   "cell_type": "code",
   "execution_count": 59,
   "metadata": {},
   "outputs": [
    {
     "name": "stdout",
     "output_type": "stream",
     "text": [
      "calibration_20230516161508_shifted0.csv\n",
      "uncalibrated: 7.1502460466402695\n",
      "calibrated: 1.5514102539214112\n",
      "cosine: 6.965941224375569\n",
      "\n",
      "ssWalking_20230516161851_shifted47.csv\n",
      "uncalibrated: 58.80364943426911\n",
      "calibrated: 58.07540648600992\n",
      "cosine: 83.94554272132022\n",
      "\n",
      "ssHeadConstrained_20230516162333_shifted28.csv\n",
      "uncalibrated: 4.418872365407865\n",
      "calibrated: 1.9737267532173495\n",
      "cosine: 4.3259606447019685\n",
      "\n",
      "wsWalking_20230516161256_shifted41.csv\n",
      "uncalibrated: 56.02065719122506\n",
      "calibrated: 54.91188525183903\n",
      "cosine: 85.94476361115447\n",
      "\n",
      "wsBodyConstrained_20230516161649_shifted0.csv\n",
      "uncalibrated: 30.542179381879045\n",
      "calibrated: 30.755831679346485\n",
      "cosine: 29.103723623699583\n",
      "\n",
      "calibration_20230516162758_shifted0.csv\n",
      "uncalibrated: 4.887436582904867\n",
      "calibrated: 1.574176759942259\n",
      "cosine: 4.775177995004336\n",
      "\n",
      "wsBodyConstrained_20230516160039_shifted0.csv\n",
      "uncalibrated: 28.01620238685308\n",
      "calibrated: 28.279689807882438\n",
      "cosine: 26.661280629833776\n",
      "\n",
      "hallway_20230516162051_shifted0.csv\n",
      "uncalibrated: 23.845207426124553\n",
      "calibrated: 20.47828110788024\n",
      "cosine: 23.216920917458907\n",
      "\n",
      "hallway_20230516160712_shifted0.csv\n",
      "uncalibrated: 20.899178187762598\n",
      "calibrated: 18.564120726399683\n",
      "cosine: 20.42091092839512\n",
      "\n",
      "wsWalking_20230516162553_shifted13.csv\n",
      "uncalibrated: 56.17623421762156\n",
      "calibrated: 54.69966977613332\n",
      "cosine: 85.43205102633812\n",
      "\n",
      "ssHeadConstrained_20230516161009_shifted26.csv\n",
      "uncalibrated: 3.9087811358057123\n",
      "calibrated: 2.796388462650102\n",
      "cosine: 3.850856832007442\n",
      "\n",
      "ssWalking_20230516160348_shifted47.csv\n",
      "uncalibrated: 58.66319049525493\n",
      "calibrated: 56.53686161150729\n",
      "cosine: 92.39530529983298\n",
      "\n"
     ]
    }
   ],
   "source": [
    "calculate_errors(\"error/recalibrated_calibration\")"
   ]
  }
 ],
 "metadata": {
  "kernelspec": {
   "display_name": "base",
   "language": "python",
   "name": "python3"
  },
  "language_info": {
   "codemirror_mode": {
    "name": "ipython",
    "version": 3
   },
   "file_extension": ".py",
   "mimetype": "text/x-python",
   "name": "python",
   "nbconvert_exporter": "python",
   "pygments_lexer": "ipython3",
   "version": "3.8.5"
  },
  "orig_nbformat": 4
 },
 "nbformat": 4,
 "nbformat_minor": 2
}

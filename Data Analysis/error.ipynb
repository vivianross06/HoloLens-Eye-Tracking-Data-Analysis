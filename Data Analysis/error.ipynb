{
 "cells": [
  {
   "cell_type": "code",
   "execution_count": 14,
   "metadata": {},
   "outputs": [],
   "source": [
    "import numpy as np\n",
    "import pandas as pd\n",
    "import os"
   ]
  },
  {
   "cell_type": "code",
   "execution_count": 32,
   "metadata": {},
   "outputs": [],
   "source": [
    "data_directory = \"../Data/Study/B/23/\"\n",
    "subdirectory = \"recalibrated_calibration/\"\n",
    "fileList = os.listdir(data_directory + subdirectory)"
   ]
  },
  {
   "cell_type": "code",
   "execution_count": 16,
   "metadata": {},
   "outputs": [],
   "source": [
    "def clean_df(df):\n",
    "    result = df.loc[(df['Movement'] != \"start\") & (df['Movement'] != \"transition\") & (df['EyeTrackingEnabled'] == True) & (df['EyeCalibrationValid'] == True) & (df['EyeTrackingEnabledAndValid'] == True) & (df['EyeTrackingDataValid'] == True) & (df['GazeInputSource'] == \"Eyes\")].copy()\n",
    "    #result = result[result['Movement'] != \"transition\"]\n",
    "    #result = result[result['EyeTrackingDataValid'] == 'TRUE']\n",
    "    #result = result[result['GazeInputSource'] == 'Eyes']\n",
    "    result.reset_index(inplace=True, drop=True)\n",
    "    return result"
   ]
  },
  {
   "cell_type": "code",
   "execution_count": 17,
   "metadata": {},
   "outputs": [],
   "source": [
    "def calculate_cosine_error(df):\n",
    "    df['cosineError'] = df.apply(lambda row: np.degrees(np.arccos(np.dot(np.array((row['EyeGazeDirection.x'], row['EyeGazeDirection.y'], row['EyeGazeDirection.z'])), np.array((row['localTransform.position.x'], row['localTransform.position.y'], row['localTransform.position.z'])))/(np.linalg.norm(np.array((row['EyeGazeDirection.x'], row['EyeGazeDirection.y'], row['EyeGazeDirection.z']))) * np.linalg.norm(np.array((row['localTransform.position.x'], row['localTransform.position.y'], row['localTransform.position.z'])))))), axis=1)\n",
    "    return df"
   ]
  },
  {
   "cell_type": "code",
   "execution_count": 18,
   "metadata": {},
   "outputs": [],
   "source": [
    "def calculate_euclidean_error(df):\n",
    "    #df['euclideanError'] = df.apply(lambda row: np.linalg.norm(np.array((row['GazeAngleX'], row['GazeAngleY']))-np.array((row['TargetAngleX'], row['TargetAngleY']))), axis=1)\n",
    "    #df['recalibratedEuclideanError'] = df.apply(lambda row: np.linalg.norm(np.array((row['CalibratedGazeAngleX'], row['CalibratedGazeAngleY']))-np.array((row['TargetAngleX'], row['TargetAngleY']))), axis=1)\n",
    "    df['euclideanError'] = np.sqrt((df.GazeAngleX-df.TargetAngleX) * (df.GazeAngleX-df.TargetAngleX) + (df.GazeAngleY-df.TargetAngleY) * (df.GazeAngleY-df.TargetAngleY))\n",
    "    df['recalibratedEuclideanError'] = np.sqrt((df.CalibratedGazeAngleX-df.TargetAngleX) * (df.CalibratedGazeAngleX-df.TargetAngleX) + (df.CalibratedGazeAngleY-df.TargetAngleY) * (df.CalibratedGazeAngleY-df.TargetAngleY))\n",
    "    return df"
   ]
  },
  {
   "cell_type": "code",
   "execution_count": 20,
   "metadata": {},
   "outputs": [],
   "source": [
    "def calculate_errors(output_subdirectory):\n",
    "    for file in fileList:\n",
    "        if '.csv' in file:\n",
    "            df = pd.read_csv(data_directory + subdirectory + file)\n",
    "            error_df = calculate_euclidean_error(df)\n",
    "            error_df = calculate_cosine_error(error_df)\n",
    "            if not os.path.exists(os.path.join(data_directory, output_subdirectory)):\n",
    "                os.makedirs(os.path.join(data_directory, output_subdirectory))\n",
    "            error_df_output_path = data_directory + output_subdirectory + '/' + file\n",
    "            error_df.to_csv(error_df_output_path, index=False)\n",
    "            print(file)\n",
    "            print(\"uncalibrated: \" + str(error_df['euclideanError'].mean()))\n",
    "            print(\"calibrated: \" + str(error_df['recalibratedEuclideanError'].mean()))\n",
    "            print(\"cosine: \" + str(error_df['cosineError'].mean()))\n",
    "            print(\"\")"
   ]
  },
  {
   "cell_type": "code",
   "execution_count": 33,
   "metadata": {},
   "outputs": [
    {
     "name": "stdout",
     "output_type": "stream",
     "text": [
      "ssHeadConstrained_20230515091527_shifted26.csv\n",
      "uncalibrated: 9.630241616831748\n",
      "calibrated: 4.544948818148545\n",
      "cosine: 9.434579805823724\n",
      "\n",
      "hallway_20230515092642_shifted38.csv\n",
      "uncalibrated: 25.068548146274615\n",
      "calibrated: 21.23533694380781\n",
      "cosine: 24.426812426844375\n",
      "\n",
      "wsWalking_20230515093205_shifted13.csv\n",
      "uncalibrated: 57.7484189213253\n",
      "calibrated: 51.43620649681045\n",
      "cosine: 81.70558098104429\n",
      "\n",
      "calibration_20230515093412_shifted0.csv\n",
      "uncalibrated: 4.488962088995188\n",
      "calibrated: 3.3161491485869004\n",
      "cosine: 4.393259224591589\n",
      "\n",
      "calibration_20230515092025_shifted0.csv\n",
      "uncalibrated: 11.30371799315887\n",
      "calibrated: 4.463382204462785\n",
      "cosine: 11.067286659327847\n",
      "\n",
      "ssWalking_20230515090856_shifted33.csv\n",
      "uncalibrated: 57.531744866345015\n",
      "calibrated: 53.598981274062865\n",
      "cosine: 87.87617338459603\n",
      "\n",
      "wsBodyConstrained_20230515090551_shifted47.csv\n",
      "uncalibrated: 24.741405153242944\n",
      "calibrated: 22.86028520429386\n",
      "cosine: 23.907050837616637\n",
      "\n",
      "wsBodyConstrained_20230515092151_shifted47.csv\n",
      "uncalibrated: 24.991522737176627\n",
      "calibrated: 23.590446367459627\n",
      "cosine: 24.146353536982527\n",
      "\n",
      "ssHeadConstrained_20230515092956_shifted25.csv\n",
      "uncalibrated: 3.7464005486795857\n",
      "calibrated: 2.8770316703399312\n",
      "cosine: 3.670168780282168\n",
      "\n",
      "ssWalking_20230515092354_shifted0.csv\n",
      "uncalibrated: 58.603421418699604\n",
      "calibrated: 53.04599160768461\n",
      "cosine: 89.06283119939883\n",
      "\n",
      "hallway_20230515091209_shifted0.csv\n",
      "uncalibrated: 24.806765261264545\n",
      "calibrated: 21.249939743646976\n",
      "cosine: 24.104809009981867\n",
      "\n",
      "wsWalking_20230515091816_shifted9.csv\n",
      "uncalibrated: 56.33441693602772\n",
      "calibrated: 51.34123471045873\n",
      "cosine: 88.5492932329717\n",
      "\n"
     ]
    }
   ],
   "source": [
    "calculate_errors(\"error/recalibrated_calibration\")"
   ]
  }
 ],
 "metadata": {
  "kernelspec": {
   "display_name": "base",
   "language": "python",
   "name": "python3"
  },
  "language_info": {
   "codemirror_mode": {
    "name": "ipython",
    "version": 3
   },
   "file_extension": ".py",
   "mimetype": "text/x-python",
   "name": "python",
   "nbconvert_exporter": "python",
   "pygments_lexer": "ipython3",
   "version": "3.8.5"
  },
  "orig_nbformat": 4
 },
 "nbformat": 4,
 "nbformat_minor": 2
}

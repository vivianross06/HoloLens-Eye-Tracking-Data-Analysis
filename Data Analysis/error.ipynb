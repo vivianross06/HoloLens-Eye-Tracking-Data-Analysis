{
 "cells": [
  {
   "cell_type": "code",
   "execution_count": 1,
   "metadata": {},
   "outputs": [],
   "source": [
    "import numpy as np\n",
    "import pandas as pd\n",
    "import os"
   ]
  },
  {
   "cell_type": "code",
   "execution_count": 12,
   "metadata": {},
   "outputs": [],
   "source": [
    "data_directory = \"../Data/Study/B/40/\"\n",
    "subdirectory = \"recalibrated_calibration/\"\n",
    "fileList = os.listdir(data_directory + subdirectory)"
   ]
  },
  {
   "cell_type": "code",
   "execution_count": 9,
   "metadata": {},
   "outputs": [],
   "source": [
    "def clean_df(df):\n",
    "    result = df.loc[(df['Movement'] != \"start\") & (df['Movement'] != \"transition\") & (df['EyeTrackingEnabled'] == True) & (df['EyeCalibrationValid'] == True) & (df['EyeTrackingEnabledAndValid'] == True) & (df['EyeTrackingDataValid'] == True) & (df['GazeInputSource'] == \"Eyes\")].copy()\n",
    "    #result = result[result['Movement'] != \"transition\"]\n",
    "    #result = result[result['EyeTrackingDataValid'] == 'TRUE']\n",
    "    #result = result[result['GazeInputSource'] == 'Eyes']\n",
    "    result.reset_index(inplace=True, drop=True)\n",
    "    return result"
   ]
  },
  {
   "cell_type": "code",
   "execution_count": 10,
   "metadata": {},
   "outputs": [],
   "source": [
    "def calculate_cosine_error(df):\n",
    "    df['cosineError'] = df.apply(lambda row: np.degrees(np.arccos(np.dot(np.array((row['EyeGazeDirection.x'], row['EyeGazeDirection.y'], row['EyeGazeDirection.z'])), np.array((row['localTransform.position.x'], row['localTransform.position.y'], row['localTransform.position.z'])))/(np.linalg.norm(np.array((row['EyeGazeDirection.x'], row['EyeGazeDirection.y'], row['EyeGazeDirection.z']))) * np.linalg.norm(np.array((row['localTransform.position.x'], row['localTransform.position.y'], row['localTransform.position.z'])))))), axis=1)\n",
    "    return df"
   ]
  },
  {
   "cell_type": "code",
   "execution_count": 5,
   "metadata": {},
   "outputs": [],
   "source": [
    "def calculate_euclidean_error(df):\n",
    "    #df['euclideanError'] = df.apply(lambda row: np.linalg.norm(np.array((row['GazeAngleX'], row['GazeAngleY']))-np.array((row['TargetAngleX'], row['TargetAngleY']))), axis=1)\n",
    "    #df['recalibratedEuclideanError'] = df.apply(lambda row: np.linalg.norm(np.array((row['CalibratedGazeAngleX'], row['CalibratedGazeAngleY']))-np.array((row['TargetAngleX'], row['TargetAngleY']))), axis=1)\n",
    "    df['euclideanError'] = np.sqrt((df.GazeAngleX-df.TargetAngleX) * (df.GazeAngleX-df.TargetAngleX) + (df.GazeAngleY-df.TargetAngleY) * (df.GazeAngleY-df.TargetAngleY))\n",
    "    df['recalibratedEuclideanError'] = np.sqrt((df.CalibratedGazeAngleX-df.TargetAngleX) * (df.CalibratedGazeAngleX-df.TargetAngleX) + (df.CalibratedGazeAngleY-df.TargetAngleY) * (df.CalibratedGazeAngleY-df.TargetAngleY))\n",
    "    return df"
   ]
  },
  {
   "cell_type": "code",
   "execution_count": 6,
   "metadata": {},
   "outputs": [],
   "source": [
    "def calculate_errors(output_subdirectory):\n",
    "    for file in fileList:\n",
    "        if '.csv' in file:\n",
    "            df = pd.read_csv(data_directory + subdirectory + file)\n",
    "            error_df = calculate_euclidean_error(df)\n",
    "            error_df = calculate_cosine_error(error_df)\n",
    "            if not os.path.exists(os.path.join(data_directory, output_subdirectory)):\n",
    "                os.makedirs(os.path.join(data_directory, output_subdirectory))\n",
    "            error_df_output_path = data_directory + output_subdirectory + '/' + file\n",
    "            error_df.to_csv(error_df_output_path, index=False)\n",
    "            print(file)\n",
    "            print(\"uncalibrated: \" + str(error_df['euclideanError'].mean()))\n",
    "            print(\"calibrated: \" + str(error_df['recalibratedEuclideanError'].mean()))\n",
    "            print(\"cosine: \" + str(error_df['cosineError'].mean()))\n",
    "            print(\"\")"
   ]
  },
  {
   "cell_type": "code",
   "execution_count": 13,
   "metadata": {},
   "outputs": [
    {
     "name": "stdout",
     "output_type": "stream",
     "text": [
      "wsBodyConstrained_20230517142330_shifted0.csv\n",
      "uncalibrated: 24.154619726457312\n",
      "calibrated: 25.310883195272204\n",
      "cosine: 23.423155680896695\n",
      "\n",
      "calibration_20230517140833_shifted0.csv\n",
      "uncalibrated: 6.88485846588798\n",
      "calibrated: 1.3344497812436886\n",
      "cosine: 6.732662453486409\n",
      "\n",
      "wsWalking_20230517142020_shifted16.csv\n",
      "uncalibrated: 57.51340157998644\n",
      "calibrated: 57.88566715923079\n",
      "cosine: 83.05123580484825\n",
      "\n",
      "ssWalking_20230517140330_shifted0.csv\n",
      "uncalibrated: 57.597757523752165\n",
      "calibrated: 58.616275566532806\n",
      "cosine: 87.82640212110256\n",
      "\n",
      "calibration_20230517142225_shifted0.csv\n",
      "uncalibrated: 7.845911581834902\n",
      "calibrated: 1.2826488979105346\n",
      "cosine: 7.6557350505071735\n",
      "\n",
      "hallway_20230517141309_shifted0.csv\n",
      "uncalibrated: 24.586939963186882\n",
      "calibrated: 21.20406329031958\n",
      "cosine: 23.90203589833587\n",
      "\n",
      "hallway_20230517142541_shifted0.csv\n",
      "uncalibrated: 26.540934211879136\n",
      "calibrated: 23.14918789415024\n",
      "cosine: 25.724061949901092\n",
      "\n",
      "ssWalking_20230517141821_shifted0.csv\n",
      "uncalibrated: 59.25938610861686\n",
      "calibrated: 59.65609206557731\n",
      "cosine: 90.19417938577398\n",
      "\n",
      "ssHeadConstrained_20230517141556_shifted26.csv\n",
      "uncalibrated: 7.681622865414588\n",
      "calibrated: 2.550189637394889\n",
      "cosine: 7.525716813101206\n",
      "\n",
      "ssHeadConstrained_20230517142825_shifted26.csv\n",
      "uncalibrated: 8.315995170851886\n",
      "calibrated: 3.9684413090220647\n",
      "cosine: 8.151176405435258\n",
      "\n",
      "wsWalking_20230517140615_shifted0.csv\n",
      "uncalibrated: 57.948240852478264\n",
      "calibrated: 58.559912542031775\n",
      "cosine: 83.39172037718177\n",
      "\n",
      "wsBodyConstrained_20230517140958_shifted0.csv\n",
      "uncalibrated: 24.72634081702706\n",
      "calibrated: 25.437501442603626\n",
      "cosine: 24.013658898437086\n",
      "\n"
     ]
    }
   ],
   "source": [
    "calculate_errors(\"error/recalibrated_calibration\")"
   ]
  }
 ],
 "metadata": {
  "kernelspec": {
   "display_name": "base",
   "language": "python",
   "name": "python3"
  },
  "language_info": {
   "codemirror_mode": {
    "name": "ipython",
    "version": 3
   },
   "file_extension": ".py",
   "mimetype": "text/x-python",
   "name": "python",
   "nbconvert_exporter": "python",
   "pygments_lexer": "ipython3",
   "version": "3.8.5"
  },
  "orig_nbformat": 4
 },
 "nbformat": 4,
 "nbformat_minor": 2
}

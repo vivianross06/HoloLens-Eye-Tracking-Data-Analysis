{
 "cells": [
  {
   "cell_type": "code",
   "execution_count": 14,
   "metadata": {},
   "outputs": [],
   "source": [
    "import numpy as np\n",
    "import pandas as pd\n",
    "import os"
   ]
  },
  {
   "cell_type": "code",
   "execution_count": 44,
   "metadata": {},
   "outputs": [],
   "source": [
    "data_directory = \"../Data/Study/A/29/\"\n",
    "subdirectory = \"recalibrated_calibration/\"\n",
    "fileList = os.listdir(data_directory + subdirectory)"
   ]
  },
  {
   "cell_type": "code",
   "execution_count": 16,
   "metadata": {},
   "outputs": [],
   "source": [
    "def clean_df(df):\n",
    "    result = df.loc[(df['Movement'] != \"start\") & (df['Movement'] != \"transition\") & (df['EyeTrackingEnabled'] == True) & (df['EyeCalibrationValid'] == True) & (df['EyeTrackingEnabledAndValid'] == True) & (df['EyeTrackingDataValid'] == True) & (df['GazeInputSource'] == \"Eyes\")].copy()\n",
    "    #result = result[result['Movement'] != \"transition\"]\n",
    "    #result = result[result['EyeTrackingDataValid'] == 'TRUE']\n",
    "    #result = result[result['GazeInputSource'] == 'Eyes']\n",
    "    result.reset_index(inplace=True, drop=True)\n",
    "    return result"
   ]
  },
  {
   "cell_type": "code",
   "execution_count": 17,
   "metadata": {},
   "outputs": [],
   "source": [
    "def calculate_cosine_error(df):\n",
    "    df['cosineError'] = df.apply(lambda row: np.degrees(np.arccos(np.dot(np.array((row['EyeGazeDirection.x'], row['EyeGazeDirection.y'], row['EyeGazeDirection.z'])), np.array((row['localTransform.position.x'], row['localTransform.position.y'], row['localTransform.position.z'])))/(np.linalg.norm(np.array((row['EyeGazeDirection.x'], row['EyeGazeDirection.y'], row['EyeGazeDirection.z']))) * np.linalg.norm(np.array((row['localTransform.position.x'], row['localTransform.position.y'], row['localTransform.position.z'])))))), axis=1)\n",
    "    return df"
   ]
  },
  {
   "cell_type": "code",
   "execution_count": 18,
   "metadata": {},
   "outputs": [],
   "source": [
    "def calculate_euclidean_error(df):\n",
    "    #df['euclideanError'] = df.apply(lambda row: np.linalg.norm(np.array((row['GazeAngleX'], row['GazeAngleY']))-np.array((row['TargetAngleX'], row['TargetAngleY']))), axis=1)\n",
    "    #df['recalibratedEuclideanError'] = df.apply(lambda row: np.linalg.norm(np.array((row['CalibratedGazeAngleX'], row['CalibratedGazeAngleY']))-np.array((row['TargetAngleX'], row['TargetAngleY']))), axis=1)\n",
    "    df['euclideanError'] = np.sqrt((df.GazeAngleX-df.TargetAngleX) * (df.GazeAngleX-df.TargetAngleX) + (df.GazeAngleY-df.TargetAngleY) * (df.GazeAngleY-df.TargetAngleY))\n",
    "    df['recalibratedEuclideanError'] = np.sqrt((df.CalibratedGazeAngleX-df.TargetAngleX) * (df.CalibratedGazeAngleX-df.TargetAngleX) + (df.CalibratedGazeAngleY-df.TargetAngleY) * (df.CalibratedGazeAngleY-df.TargetAngleY))\n",
    "    return df"
   ]
  },
  {
   "cell_type": "code",
   "execution_count": 20,
   "metadata": {},
   "outputs": [],
   "source": [
    "def calculate_errors(output_subdirectory):\n",
    "    for file in fileList:\n",
    "        if '.csv' in file:\n",
    "            df = pd.read_csv(data_directory + subdirectory + file)\n",
    "            error_df = calculate_euclidean_error(df)\n",
    "            error_df = calculate_cosine_error(error_df)\n",
    "            if not os.path.exists(os.path.join(data_directory, output_subdirectory)):\n",
    "                os.makedirs(os.path.join(data_directory, output_subdirectory))\n",
    "            error_df_output_path = data_directory + output_subdirectory + '/' + file\n",
    "            error_df.to_csv(error_df_output_path, index=False)\n",
    "            print(file)\n",
    "            print(\"uncalibrated: \" + str(error_df['euclideanError'].mean()))\n",
    "            print(\"calibrated: \" + str(error_df['recalibratedEuclideanError'].mean()))\n",
    "            print(\"cosine: \" + str(error_df['cosineError'].mean()))\n",
    "            print(\"\")"
   ]
  },
  {
   "cell_type": "code",
   "execution_count": 45,
   "metadata": {},
   "outputs": [
    {
     "name": "stdout",
     "output_type": "stream",
     "text": [
      "ssHeadConstrained_20230515154812_shifted19.csv\n",
      "uncalibrated: 8.114835568575268\n",
      "calibrated: 1.9587353056358117\n",
      "cosine: 7.9494311271063385\n",
      "\n",
      "wsWalking_20230515154017_shifted20.csv\n",
      "uncalibrated: 56.797866311597225\n",
      "calibrated: 57.622514790336744\n",
      "cosine: 84.63485886243943\n",
      "\n",
      "wsBodyConstrained_20230515153243_shifted0.csv\n",
      "uncalibrated: 28.63188192813854\n",
      "calibrated: 30.731859015825005\n",
      "cosine: 27.671706356417918\n",
      "\n",
      "calibration_20230515154157_shifted0.csv\n",
      "uncalibrated: 8.433566309593864\n",
      "calibrated: 2.345992908224151\n",
      "cosine: 8.22721027029719\n",
      "\n",
      "ssWalking_20230515154429_shifted30.csv\n",
      "uncalibrated: 59.32503559280589\n",
      "calibrated: 59.36829131281089\n",
      "cosine: 89.08506575663438\n",
      "\n",
      "calibration_20230515155133_shifted0.csv\n",
      "uncalibrated: 6.153205942275525\n",
      "calibrated: 1.9834805076908433\n",
      "cosine: 6.012830635994966\n",
      "\n",
      "ssHeadConstrained_20230515153835_shifted14.csv\n",
      "uncalibrated: 7.522879775679965\n",
      "calibrated: 2.227885174944244\n",
      "cosine: 7.374837174209164\n",
      "\n",
      "ssWalking_20230515153431_shifted0.csv\n",
      "uncalibrated: 55.88739342794788\n",
      "calibrated: 56.38039715687531\n",
      "cosine: 91.5311977919016\n",
      "\n",
      "wsBodyConstrained_20230515154253_shifted47.csv\n",
      "uncalibrated: 28.023401786520775\n",
      "calibrated: 29.425721376846603\n",
      "cosine: 26.98505107787972\n",
      "\n",
      "wsWalking_20230515154954_shifted48.csv\n",
      "uncalibrated: 57.174692776691664\n",
      "calibrated: 57.895298956246705\n",
      "cosine: 87.53063242238338\n",
      "\n",
      "hallway_20230515153626_shifted0.csv\n",
      "uncalibrated: 35.331571705838925\n",
      "calibrated: 31.592225583783588\n",
      "cosine: 32.846979976993424\n",
      "\n",
      "hallway_20230515154604_shifted0.csv\n",
      "uncalibrated: 35.096907684674974\n",
      "calibrated: 31.135657683138724\n",
      "cosine: 32.91124691621692\n",
      "\n"
     ]
    }
   ],
   "source": [
    "calculate_errors(\"error/recalibrated_calibration\")"
   ]
  }
 ],
 "metadata": {
  "kernelspec": {
   "display_name": "base",
   "language": "python",
   "name": "python3"
  },
  "language_info": {
   "codemirror_mode": {
    "name": "ipython",
    "version": 3
   },
   "file_extension": ".py",
   "mimetype": "text/x-python",
   "name": "python",
   "nbconvert_exporter": "python",
   "pygments_lexer": "ipython3",
   "version": "3.8.5"
  },
  "orig_nbformat": 4
 },
 "nbformat": 4,
 "nbformat_minor": 2
}

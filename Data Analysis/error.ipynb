{
 "cells": [
  {
   "cell_type": "code",
   "execution_count": 1,
   "metadata": {},
   "outputs": [],
   "source": [
    "import numpy as np\n",
    "import pandas as pd\n",
    "import os"
   ]
  },
  {
   "cell_type": "code",
   "execution_count": 14,
   "metadata": {},
   "outputs": [],
   "source": [
    "data_directory = \"../Data/Study/B/42/\"\n",
    "subdirectory = \"recalibrated_calibration/\"\n",
    "fileList = os.listdir(data_directory + subdirectory)"
   ]
  },
  {
   "cell_type": "code",
   "execution_count": 9,
   "metadata": {},
   "outputs": [],
   "source": [
    "def clean_df(df):\n",
    "    result = df.loc[(df['Movement'] != \"start\") & (df['Movement'] != \"transition\") & (df['EyeTrackingEnabled'] == True) & (df['EyeCalibrationValid'] == True) & (df['EyeTrackingEnabledAndValid'] == True) & (df['EyeTrackingDataValid'] == True) & (df['GazeInputSource'] == \"Eyes\")].copy()\n",
    "    #result = result[result['Movement'] != \"transition\"]\n",
    "    #result = result[result['EyeTrackingDataValid'] == 'TRUE']\n",
    "    #result = result[result['GazeInputSource'] == 'Eyes']\n",
    "    result.reset_index(inplace=True, drop=True)\n",
    "    return result"
   ]
  },
  {
   "cell_type": "code",
   "execution_count": 10,
   "metadata": {},
   "outputs": [],
   "source": [
    "def calculate_cosine_error(df):\n",
    "    df['cosineError'] = df.apply(lambda row: np.degrees(np.arccos(np.dot(np.array((row['EyeGazeDirection.x'], row['EyeGazeDirection.y'], row['EyeGazeDirection.z'])), np.array((row['localTransform.position.x'], row['localTransform.position.y'], row['localTransform.position.z'])))/(np.linalg.norm(np.array((row['EyeGazeDirection.x'], row['EyeGazeDirection.y'], row['EyeGazeDirection.z']))) * np.linalg.norm(np.array((row['localTransform.position.x'], row['localTransform.position.y'], row['localTransform.position.z'])))))), axis=1)\n",
    "    return df"
   ]
  },
  {
   "cell_type": "code",
   "execution_count": 5,
   "metadata": {},
   "outputs": [],
   "source": [
    "def calculate_euclidean_error(df):\n",
    "    #df['euclideanError'] = df.apply(lambda row: np.linalg.norm(np.array((row['GazeAngleX'], row['GazeAngleY']))-np.array((row['TargetAngleX'], row['TargetAngleY']))), axis=1)\n",
    "    #df['recalibratedEuclideanError'] = df.apply(lambda row: np.linalg.norm(np.array((row['CalibratedGazeAngleX'], row['CalibratedGazeAngleY']))-np.array((row['TargetAngleX'], row['TargetAngleY']))), axis=1)\n",
    "    df['euclideanError'] = np.sqrt((df.GazeAngleX-df.TargetAngleX) * (df.GazeAngleX-df.TargetAngleX) + (df.GazeAngleY-df.TargetAngleY) * (df.GazeAngleY-df.TargetAngleY))\n",
    "    df['recalibratedEuclideanError'] = np.sqrt((df.CalibratedGazeAngleX-df.TargetAngleX) * (df.CalibratedGazeAngleX-df.TargetAngleX) + (df.CalibratedGazeAngleY-df.TargetAngleY) * (df.CalibratedGazeAngleY-df.TargetAngleY))\n",
    "    return df"
   ]
  },
  {
   "cell_type": "code",
   "execution_count": 6,
   "metadata": {},
   "outputs": [],
   "source": [
    "def calculate_errors(output_subdirectory):\n",
    "    for file in fileList:\n",
    "        if '.csv' in file:\n",
    "            df = pd.read_csv(data_directory + subdirectory + file)\n",
    "            error_df = calculate_euclidean_error(df)\n",
    "            error_df = calculate_cosine_error(error_df)\n",
    "            if not os.path.exists(os.path.join(data_directory, output_subdirectory)):\n",
    "                os.makedirs(os.path.join(data_directory, output_subdirectory))\n",
    "            error_df_output_path = data_directory + output_subdirectory + '/' + file\n",
    "            error_df.to_csv(error_df_output_path, index=False)\n",
    "            print(file)\n",
    "            print(\"uncalibrated: \" + str(error_df['euclideanError'].mean()))\n",
    "            print(\"calibrated: \" + str(error_df['recalibratedEuclideanError'].mean()))\n",
    "            print(\"cosine: \" + str(error_df['cosineError'].mean()))\n",
    "            print(\"\")"
   ]
  },
  {
   "cell_type": "code",
   "execution_count": 15,
   "metadata": {},
   "outputs": [
    {
     "name": "stdout",
     "output_type": "stream",
     "text": [
      "wsWalking_20230517161804_shifted47.csv\n",
      "uncalibrated: 62.17554030113359\n",
      "calibrated: 62.228472332326255\n",
      "cosine: 82.08489404360911\n",
      "\n",
      "calibration_20230517161337_shifted0.csv\n",
      "uncalibrated: 6.924408522252813\n",
      "calibrated: 1.2303210542877705\n",
      "cosine: 6.752077221085067\n",
      "\n",
      "hallway_20230517160957_shifted0.csv\n",
      "uncalibrated: 23.195671967482024\n",
      "calibrated: 20.14141884116664\n",
      "cosine: 22.51647301130608\n",
      "\n",
      "calibration_20230517162912_shifted0.csv\n",
      "uncalibrated: 5.358506220084713\n",
      "calibrated: 1.19056356107998\n",
      "cosine: 5.247928032379115\n",
      "\n",
      "ssHeadConstrained_20230517162022_shifted22.csv\n",
      "uncalibrated: 3.4241053227203313\n",
      "calibrated: 2.8505748624489358\n",
      "cosine: 3.369530348556362\n",
      "\n",
      "ssHeadConstrained_20230517163510_shifted23.csv\n",
      "uncalibrated: 2.1101588566330913\n",
      "calibrated: 6.934305297438754\n",
      "cosine: 2.0899061175484595\n",
      "\n",
      "ssWalking_20230517162308_shifted0.csv\n",
      "uncalibrated: 61.59890969583337\n",
      "calibrated: 60.756896474702025\n",
      "cosine: 90.84773336004008\n",
      "\n",
      "wsBodyConstrained_20230517163037_shifted23.csv\n",
      "uncalibrated: 22.305433842373066\n",
      "calibrated: 23.71448025933482\n",
      "cosine: 21.310725228837605\n",
      "\n",
      "wsBodyConstrained_20230517161506_shifted8.csv\n",
      "uncalibrated: 23.75824870334785\n",
      "calibrated: 24.941552926813713\n",
      "cosine: 22.767467555791498\n",
      "\n",
      "hallway_20230517162542_shifted0.csv\n",
      "uncalibrated: 22.61941177903654\n",
      "calibrated: 19.373759894484316\n",
      "cosine: 21.863723040519044\n",
      "\n",
      "wsWalking_20230517163255_shifted26.csv\n",
      "uncalibrated: 60.32686905129178\n",
      "calibrated: 60.03840839420171\n",
      "cosine: 85.51446156259632\n",
      "\n",
      "ssWalking_20230517163737_shifted10.csv\n",
      "uncalibrated: 63.72119538720468\n",
      "calibrated: 63.38235573188511\n",
      "cosine: 90.35477052325908\n",
      "\n"
     ]
    }
   ],
   "source": [
    "calculate_errors(\"error/recalibrated_calibration\")"
   ]
  }
 ],
 "metadata": {
  "kernelspec": {
   "display_name": "base",
   "language": "python",
   "name": "python3"
  },
  "language_info": {
   "codemirror_mode": {
    "name": "ipython",
    "version": 3
   },
   "file_extension": ".py",
   "mimetype": "text/x-python",
   "name": "python",
   "nbconvert_exporter": "python",
   "pygments_lexer": "ipython3",
   "version": "3.8.5"
  },
  "orig_nbformat": 4
 },
 "nbformat": 4,
 "nbformat_minor": 2
}

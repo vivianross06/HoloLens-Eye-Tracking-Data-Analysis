{
 "cells": [
  {
   "cell_type": "code",
   "execution_count": 1,
   "metadata": {},
   "outputs": [],
   "source": [
    "import numpy as np\n",
    "import pandas as pd\n",
    "import os"
   ]
  },
  {
   "cell_type": "code",
   "execution_count": 12,
   "metadata": {},
   "outputs": [],
   "source": [
    "data_directory = \"../Data/Study/16/\"\n",
    "subdirectory = \"recalibrated_calibration/\"\n",
    "fileList = os.listdir(data_directory + subdirectory)"
   ]
  },
  {
   "cell_type": "code",
   "execution_count": 3,
   "metadata": {},
   "outputs": [],
   "source": [
    "def clean_df(df):\n",
    "    result = df.loc[(df['Movement'] != \"start\") & (df['Movement'] != \"transition\") & (df['EyeTrackingEnabled'] == True) & (df['EyeCalibrationValid'] == True) & (df['EyeTrackingEnabledAndValid'] == True) & (df['EyeTrackingDataValid'] == True) & (df['GazeInputSource'] == \"Eyes\")].copy()\n",
    "    #result = result[result['Movement'] != \"transition\"]\n",
    "    #result = result[result['EyeTrackingDataValid'] == 'TRUE']\n",
    "    #result = result[result['GazeInputSource'] == 'Eyes']\n",
    "    result.reset_index(inplace=True, drop=True)\n",
    "    return result"
   ]
  },
  {
   "cell_type": "code",
   "execution_count": 4,
   "metadata": {},
   "outputs": [],
   "source": [
    "def calculate_cosine_error(df):\n",
    "    df['cosineError'] = df.apply(lambda row: np.degrees(np.arccos(np.dot(np.array((row['EyeGazeDirection.x'], row['EyeGazeDirection.y'], row['EyeGazeDirection.z'])), np.array((row['localTransform.position.x'], row['localTransform.position.y'], row['localTransform.position.z'])))/(np.linalg.norm(np.array((row['EyeGazeDirection.x'], row['EyeGazeDirection.y'], row['EyeGazeDirection.z']))) * np.linalg.norm(np.array((row['localTransform.position.x'], row['localTransform.position.y'], row['localTransform.position.z'])))))), axis=1)\n",
    "    return df"
   ]
  },
  {
   "cell_type": "code",
   "execution_count": 5,
   "metadata": {},
   "outputs": [],
   "source": [
    "def calculate_euclidean_error(df):\n",
    "    #df['euclideanError'] = df.apply(lambda row: np.linalg.norm(np.array((row['GazeAngleX'], row['GazeAngleY']))-np.array((row['TargetAngleX'], row['TargetAngleY']))), axis=1)\n",
    "    #df['recalibratedEuclideanError'] = df.apply(lambda row: np.linalg.norm(np.array((row['CalibratedGazeAngleX'], row['CalibratedGazeAngleY']))-np.array((row['TargetAngleX'], row['TargetAngleY']))), axis=1)\n",
    "    df['euclideanError'] = np.sqrt((df.GazeAngleX-df.TargetAngleX) * (df.GazeAngleX-df.TargetAngleX) + (df.GazeAngleY-df.TargetAngleY) * (df.GazeAngleY-df.TargetAngleY))\n",
    "    df['recalibratedEuclideanError'] = np.sqrt((df.CalibratedGazeAngleX-df.TargetAngleX) * (df.CalibratedGazeAngleX-df.TargetAngleX) + (df.CalibratedGazeAngleY-df.TargetAngleY) * (df.CalibratedGazeAngleY-df.TargetAngleY))\n",
    "    return df"
   ]
  },
  {
   "cell_type": "code",
   "execution_count": 6,
   "metadata": {},
   "outputs": [],
   "source": [
    "def calculate_errors(output_subdirectory):\n",
    "    for file in fileList:\n",
    "        if '.csv' in file:\n",
    "            df = pd.read_csv(data_directory + subdirectory + file)\n",
    "            error_df = calculate_euclidean_error(df)\n",
    "            error_df = calculate_cosine_error(error_df)\n",
    "            if not os.path.exists(os.path.join(data_directory, output_subdirectory)):\n",
    "                os.makedirs(os.path.join(data_directory, output_subdirectory))\n",
    "            error_df_output_path = data_directory + output_subdirectory + '/' + file\n",
    "            error_df.to_csv(error_df_output_path)\n",
    "            print(file)\n",
    "            print(\"uncalibrated: \" + str(error_df['euclideanError'].mean()))\n",
    "            print(\"calibrated: \" + str(error_df['recalibratedEuclideanError'].mean()))\n",
    "            print(\"cosine: \" + str(error_df['cosineError'].mean()))\n",
    "            print(\"\")"
   ]
  },
  {
   "cell_type": "code",
   "execution_count": 13,
   "metadata": {},
   "outputs": [
    {
     "name": "stdout",
     "output_type": "stream",
     "text": [
      "hallway_20230510153553_shifted0.csv\n",
      "uncalibrated: 24.771071284116598\n",
      "calibrated: 19.21640727289851\n",
      "cosine: 23.962280694752135\n",
      "\n",
      "wsBodyConstrained_20230510151740_shifted47.csv\n",
      "uncalibrated: 22.15429778456152\n",
      "calibrated: 25.110637179183314\n",
      "cosine: 21.710382993512138\n",
      "\n",
      "wsWalking_20230510152944_shifted10.csv\n",
      "uncalibrated: 60.57656130282234\n",
      "calibrated: 60.66366538621666\n",
      "cosine: 83.78031239941896\n",
      "\n",
      "ssHeadConstrained_20230510153841_shifted25.csv\n",
      "uncalibrated: 11.307185092731846\n",
      "calibrated: 3.268573994219764\n",
      "cosine: 11.055672925314536\n",
      "\n",
      "ssWalking_20230510150936_shifted48.csv\n",
      "uncalibrated: 58.352609292463356\n",
      "calibrated: 58.937591140859205\n",
      "cosine: 89.01880265900112\n",
      "\n",
      "calibration_20230510151538_shifted0.csv\n",
      "uncalibrated: 12.576321697446412\n",
      "calibrated: 2.8556172915813893\n",
      "cosine: 12.254070809108558\n",
      "\n",
      "ssHeadConstrained_20230510152430_shifted27.csv\n",
      "uncalibrated: 12.305959677836944\n",
      "calibrated: 1.2947427282174173\n",
      "cosine: 12.032622888990824\n",
      "\n",
      "wsBodyConstrained_20230510153314_shifted0.csv\n",
      "uncalibrated: 24.64173941222059\n",
      "calibrated: 28.07941653915648\n",
      "cosine: 24.04597580188862\n",
      "\n",
      "wsWalking_20230510151249_shifted18.csv\n",
      "uncalibrated: 58.851057220478204\n",
      "calibrated: 57.82993338978559\n",
      "cosine: 85.32482165444851\n",
      "\n",
      "hallway_20230510152132_shifted0.csv\n",
      "uncalibrated: 23.93432772395077\n",
      "calibrated: 20.00355650789526\n",
      "cosine: 23.27082168828313\n",
      "\n",
      "calibration_20230510153158_shifted0.csv\n",
      "uncalibrated: 14.107364369985355\n",
      "calibrated: 1.1511994474954\n",
      "cosine: 13.787950084480618\n",
      "\n",
      "ssWalking_20230510152739_shifted48.csv\n",
      "uncalibrated: 60.496955602122775\n",
      "calibrated: 60.577528777348704\n",
      "cosine: 88.87117809453964\n",
      "\n"
     ]
    }
   ],
   "source": [
    "calculate_errors(\"error/recalibrated_calibration\")"
   ]
  }
 ],
 "metadata": {
  "kernelspec": {
   "display_name": "base",
   "language": "python",
   "name": "python3"
  },
  "language_info": {
   "codemirror_mode": {
    "name": "ipython",
    "version": 3
   },
   "file_extension": ".py",
   "mimetype": "text/x-python",
   "name": "python",
   "nbconvert_exporter": "python",
   "pygments_lexer": "ipython3",
   "version": "3.8.5"
  },
  "orig_nbformat": 4
 },
 "nbformat": 4,
 "nbformat_minor": 2
}

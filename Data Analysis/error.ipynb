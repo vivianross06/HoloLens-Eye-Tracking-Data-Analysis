{
 "cells": [
  {
   "cell_type": "code",
   "execution_count": 45,
   "metadata": {},
   "outputs": [],
   "source": [
    "import numpy as np\n",
    "import pandas as pd\n",
    "import os"
   ]
  },
  {
   "cell_type": "code",
   "execution_count": 52,
   "metadata": {},
   "outputs": [],
   "source": [
    "data_directory = \"../Data/Study/02/\"\n",
    "subdirectory = \"recalibrated_calibration/\"\n",
    "fileList = os.listdir(data_directory + subdirectory)"
   ]
  },
  {
   "cell_type": "code",
   "execution_count": 53,
   "metadata": {},
   "outputs": [],
   "source": [
    "def clean_df(df):\n",
    "    result = df[df['Movement'] != \"start\"]\n",
    "    result = result[result['Movement'] != \"transition\"]\n",
    "    result = result[result['EyeTrackingDataValid'] != 'TRUE']\n",
    "    return result"
   ]
  },
  {
   "cell_type": "code",
   "execution_count": 66,
   "metadata": {},
   "outputs": [],
   "source": [
    "def calculate_cosine_error(df):\n",
    "    df['cosineError'] = df.apply(lambda row: np.arccos(np.dot(np.array((row['EyeGazeDirection.x'], row['EyeGazeDirection.y'], row['EyeGazeDirection.z'])), np.array((row['localTransform.position.x'], row['localTransform.position.y'], row['localTransform.position.z'])))/(np.linalg.norm(np.array((row['EyeGazeDirection.x'], row['EyeGazeDirection.y'], row['EyeGazeDirection.z']))) * np.linalg.norm(np.array((row['localTransform.position.x'], row['localTransform.position.y'], row['localTransform.position.z']))))), axis=1)\n",
    "    return df"
   ]
  },
  {
   "cell_type": "code",
   "execution_count": 61,
   "metadata": {},
   "outputs": [],
   "source": [
    "def calculate_euclidean_error(df):\n",
    "    #df['euclideanError'] = df.apply(lambda row: np.linalg.norm(np.array((row['GazeAngleX'], row['GazeAngleY']))-np.array((row['TargetAngleX'], row['TargetAngleY']))), axis=1)\n",
    "    #df['recalibratedEuclideanError'] = df.apply(lambda row: np.linalg.norm(np.array((row['CalibratedGazeAngleX'], row['CalibratedGazeAngleY']))-np.array((row['TargetAngleX'], row['TargetAngleY']))), axis=1)\n",
    "    df['euclideanError'] = np.sqrt((df.GazeAngleX-df.TargetAngleX) * (df.GazeAngleX-df.TargetAngleX) + (df.GazeAngleY-df.TargetAngleY) * (df.GazeAngleY-df.TargetAngleY))\n",
    "    df['recalibratedEuclideanError'] = np.sqrt((df.CalibratedGazeAngleX-df.TargetAngleX) * (df.CalibratedGazeAngleX-df.TargetAngleX) + (df.CalibratedGazeAngleY-df.TargetAngleY) * (df.CalibratedGazeAngleY-df.TargetAngleY))\n",
    "    return df"
   ]
  },
  {
   "cell_type": "code",
   "execution_count": 67,
   "metadata": {},
   "outputs": [],
   "source": [
    "def calculate_errors(output_subdirectory):\n",
    "    for file in fileList:\n",
    "        if '.csv' in file:\n",
    "            df = pd.read_csv(data_directory + subdirectory + file)\n",
    "            error_df = calculate_euclidean_error(df)\n",
    "            error_df = calculate_cosine_error(error_df)\n",
    "            if not os.path.exists(os.path.join(data_directory, output_subdirectory)):\n",
    "                os.mkdir(os.path.join(data_directory, output_subdirectory))\n",
    "            error_df_output_path = data_directory + output_subdirectory + '/' + file\n",
    "            error_df.to_csv(error_df_output_path)\n",
    "            print(file)\n",
    "            print(\"uncalibrated: \" + str(error_df['euclideanError'].mean()))\n",
    "            print(\"calibrated: \" + str(error_df['recalibratedEuclideanError'].mean()))\n",
    "            print(\"cosine: \" + str(error_df['cosineError'].mean()))\n",
    "            print(\"\")"
   ]
  },
  {
   "cell_type": "code",
   "execution_count": 68,
   "metadata": {},
   "outputs": [
    {
     "name": "stdout",
     "output_type": "stream",
     "text": [
      "hallway_20230505091641_shifted0_recalibrated_calibration.csv\n",
      "uncalibrated: 29.009994260278063\n",
      "calibrated: 26.589934100474718\n",
      "cosine: 0.48268542685119076\n",
      "\n",
      "ssWalking_20230505091229_shifted47_recalibrated_calibration.csv\n",
      "uncalibrated: 59.09522005702312\n",
      "calibrated: 56.615837715171786\n",
      "cosine: 1.4778271293608747\n",
      "\n",
      "wsWalking_20230505094522_shifted16_recalibrated_calibration.csv\n",
      "uncalibrated: 52.49407321873202\n",
      "calibrated: 49.98730590293753\n",
      "cosine: 1.6152727895473873\n",
      "\n",
      "ssWalking_20230505093314_shifted48_recalibrated_calibration.csv\n",
      "uncalibrated: 58.76758849409513\n",
      "calibrated: 55.56258672838841\n",
      "cosine: 1.516071540172629\n",
      "\n",
      "ssHeadConstrained_20230505090941_shifted29_recalibrated_calibration.csv\n",
      "uncalibrated: 4.163990387318883\n",
      "calibrated: 4.838643080929303\n",
      "cosine: 0.07200401325505797\n",
      "\n",
      "ssHeadConstrained_20230505092949_shifted25_recalibrated_calibration.csv\n",
      "uncalibrated: 5.169504107696743\n",
      "calibrated: 3.138985807492666\n",
      "cosine: 0.08822757380330615\n",
      "\n",
      "calibration_20230505092722_shifted0_recalibrated_calibration.csv\n",
      "uncalibrated: 4.4929711598502795\n",
      "calibrated: 2.7070800029597546\n",
      "cosine: 0.07657615523856094\n",
      "\n",
      "calibration_20230505090831_shifted0_recalibrated_calibration.csv\n",
      "uncalibrated: 1.940441193729635\n",
      "calibrated: 2.8187127824592584\n",
      "cosine: 0.033299296122244394\n",
      "\n",
      "wsWalking_20230505092436_shifted43_recalibrated_calibration.csv\n",
      "uncalibrated: 51.35363191072577\n",
      "calibrated: 48.89866041549561\n",
      "cosine: 1.5064558616253976\n",
      "\n",
      "hallway_20230505093611_shifted0_recalibrated_calibration.csv\n",
      "uncalibrated: 26.353746908769136\n",
      "calibrated: 24.021360169981822\n",
      "cosine: 0.443419548126855\n",
      "\n"
     ]
    }
   ],
   "source": [
    "calculate_errors(\"error\")"
   ]
  }
 ],
 "metadata": {
  "kernelspec": {
   "display_name": "base",
   "language": "python",
   "name": "python3"
  },
  "language_info": {
   "codemirror_mode": {
    "name": "ipython",
    "version": 3
   },
   "file_extension": ".py",
   "mimetype": "text/x-python",
   "name": "python",
   "nbconvert_exporter": "python",
   "pygments_lexer": "ipython3",
   "version": "3.8.5"
  },
  "orig_nbformat": 4
 },
 "nbformat": 4,
 "nbformat_minor": 2
}

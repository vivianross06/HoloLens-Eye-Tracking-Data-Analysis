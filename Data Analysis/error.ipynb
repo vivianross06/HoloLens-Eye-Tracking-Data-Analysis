{
 "cells": [
  {
   "cell_type": "code",
   "execution_count": 8,
   "metadata": {},
   "outputs": [],
   "source": [
    "import numpy as np\n",
    "import pandas as pd\n",
    "import os"
   ]
  },
  {
   "cell_type": "code",
   "execution_count": 9,
   "metadata": {},
   "outputs": [],
   "source": [
    "data_directory = \"../Data/Study/11/\"\n",
    "subdirectory = \"recalibrated_calibration/\"\n",
    "fileList = os.listdir(data_directory + subdirectory)"
   ]
  },
  {
   "cell_type": "code",
   "execution_count": 10,
   "metadata": {},
   "outputs": [],
   "source": [
    "def clean_df(df):\n",
    "    result = df.loc[(df['Movement'] != \"start\") & (df['Movement'] != \"transition\") & (df['EyeTrackingEnabled'] == True) & (df['EyeCalibrationValid'] == True) & (df['EyeTrackingEnabledAndValid'] == True) & (df['EyeTrackingDataValid'] == True) & (df['GazeInputSource'] == \"Eyes\")].copy()\n",
    "    #result = result[result['Movement'] != \"transition\"]\n",
    "    #result = result[result['EyeTrackingDataValid'] == 'TRUE']\n",
    "    #result = result[result['GazeInputSource'] == 'Eyes']\n",
    "    result.reset_index(inplace=True, drop=True)\n",
    "    return result"
   ]
  },
  {
   "cell_type": "code",
   "execution_count": 11,
   "metadata": {},
   "outputs": [],
   "source": [
    "def calculate_cosine_error(df):\n",
    "    df['cosineError'] = df.apply(lambda row: np.degrees(np.arccos(np.dot(np.array((row['EyeGazeDirection.x'], row['EyeGazeDirection.y'], row['EyeGazeDirection.z'])), np.array((row['localTransform.position.x'], row['localTransform.position.y'], row['localTransform.position.z'])))/(np.linalg.norm(np.array((row['EyeGazeDirection.x'], row['EyeGazeDirection.y'], row['EyeGazeDirection.z']))) * np.linalg.norm(np.array((row['localTransform.position.x'], row['localTransform.position.y'], row['localTransform.position.z'])))))), axis=1)\n",
    "    return df"
   ]
  },
  {
   "cell_type": "code",
   "execution_count": 12,
   "metadata": {},
   "outputs": [],
   "source": [
    "def calculate_euclidean_error(df):\n",
    "    #df['euclideanError'] = df.apply(lambda row: np.linalg.norm(np.array((row['GazeAngleX'], row['GazeAngleY']))-np.array((row['TargetAngleX'], row['TargetAngleY']))), axis=1)\n",
    "    #df['recalibratedEuclideanError'] = df.apply(lambda row: np.linalg.norm(np.array((row['CalibratedGazeAngleX'], row['CalibratedGazeAngleY']))-np.array((row['TargetAngleX'], row['TargetAngleY']))), axis=1)\n",
    "    df['euclideanError'] = np.sqrt((df.GazeAngleX-df.TargetAngleX) * (df.GazeAngleX-df.TargetAngleX) + (df.GazeAngleY-df.TargetAngleY) * (df.GazeAngleY-df.TargetAngleY))\n",
    "    df['recalibratedEuclideanError'] = np.sqrt((df.CalibratedGazeAngleX-df.TargetAngleX) * (df.CalibratedGazeAngleX-df.TargetAngleX) + (df.CalibratedGazeAngleY-df.TargetAngleY) * (df.CalibratedGazeAngleY-df.TargetAngleY))\n",
    "    return df"
   ]
  },
  {
   "cell_type": "code",
   "execution_count": 13,
   "metadata": {},
   "outputs": [],
   "source": [
    "def calculate_errors(output_subdirectory):\n",
    "    for file in fileList:\n",
    "        if '.csv' in file:\n",
    "            df = pd.read_csv(data_directory + subdirectory + file)\n",
    "            error_df = calculate_euclidean_error(df)\n",
    "            error_df = calculate_cosine_error(error_df)\n",
    "            if not os.path.exists(os.path.join(data_directory, output_subdirectory)):\n",
    "                os.makedirs(os.path.join(data_directory, output_subdirectory))\n",
    "            error_df_output_path = data_directory + output_subdirectory + '/' + file\n",
    "            error_df.to_csv(error_df_output_path)\n",
    "            print(file)\n",
    "            print(\"uncalibrated: \" + str(error_df['euclideanError'].mean()))\n",
    "            print(\"calibrated: \" + str(error_df['recalibratedEuclideanError'].mean()))\n",
    "            print(\"cosine: \" + str(error_df['cosineError'].mean()))\n",
    "            print(\"\")"
   ]
  },
  {
   "cell_type": "code",
   "execution_count": 14,
   "metadata": {},
   "outputs": [
    {
     "name": "stdout",
     "output_type": "stream",
     "text": [
      "hallway_20230509182317_shifted0_recalibrated_calibration.csv\n",
      "uncalibrated: 29.48868748537393\n",
      "calibrated: 20.37724843094\n",
      "cosine: 27.97946338192694\n",
      "\n",
      "wsBodyConstrained_20230509181907_shifted0_recalibrated_calibration.csv\n",
      "uncalibrated: 24.62532949562008\n",
      "calibrated: 25.91709602020908\n",
      "cosine: 23.746845133282413\n",
      "\n",
      "wsWalking_20230509181508_shifted11_recalibrated_calibration.csv\n",
      "uncalibrated: 62.08388215376997\n",
      "calibrated: 61.89398084185732\n",
      "cosine: 89.49185488702328\n",
      "\n",
      "ssHeadConstrained_20230509181201_shifted22_recalibrated_calibration.csv\n",
      "uncalibrated: 14.33698195032697\n",
      "calibrated: 1.6677059614611127\n",
      "cosine: 14.025689333332373\n",
      "\n",
      "calibration_20230509181719_shifted0_recalibrated_calibration.csv\n",
      "uncalibrated: 13.044310728113068\n",
      "calibrated: 1.2232735227593357\n",
      "cosine: 12.744002553701247\n",
      "\n",
      "calibration_20230509183012_shifted0_recalibrated_calibration.csv\n",
      "uncalibrated: 13.935105204489094\n",
      "calibrated: 1.5809743163238046\n",
      "cosine: 13.582494126898009\n",
      "\n",
      "hallway_20230509180912_shifted0_recalibrated_calibration.csv\n",
      "uncalibrated: 25.42021324586343\n",
      "calibrated: 17.33732423957003\n",
      "cosine: 23.859158970680646\n",
      "\n",
      "wsBodyConstrained_20230509180305_shifted0_recalibrated_calibration.csv\n",
      "uncalibrated: 24.86257941335291\n",
      "calibrated: 26.483554836922668\n",
      "cosine: 23.92578690976296\n",
      "\n",
      "wsWalking_20230509182804_shifted4_recalibrated_calibration.csv\n",
      "uncalibrated: 62.6399774822159\n",
      "calibrated: 62.20940683044979\n",
      "cosine: 89.70102273342434\n",
      "\n",
      "ssWalking_20230509182109_shifted0_recalibrated_calibration.csv\n",
      "uncalibrated: 62.20637882700747\n",
      "calibrated: 61.722788873784864\n",
      "cosine: 87.93104224427053\n",
      "\n",
      "ssWalking_20230509180557_shifted0_recalibrated_calibration.csv\n",
      "uncalibrated: 61.14368931237632\n",
      "calibrated: 61.085442908386256\n",
      "cosine: 88.75974426828971\n",
      "\n",
      "ssHeadConstrained_20230509182557_shifted18_recalibrated_calibration.csv\n",
      "uncalibrated: 12.621663814416234\n",
      "calibrated: 2.126741692232592\n",
      "cosine: 12.349587074606852\n",
      "\n"
     ]
    }
   ],
   "source": [
    "calculate_errors(\"error/recalibrated_calibration\")"
   ]
  }
 ],
 "metadata": {
  "kernelspec": {
   "display_name": "base",
   "language": "python",
   "name": "python3"
  },
  "language_info": {
   "codemirror_mode": {
    "name": "ipython",
    "version": 3
   },
   "file_extension": ".py",
   "mimetype": "text/x-python",
   "name": "python",
   "nbconvert_exporter": "python",
   "pygments_lexer": "ipython3",
   "version": "3.8.5"
  },
  "orig_nbformat": 4
 },
 "nbformat": 4,
 "nbformat_minor": 2
}

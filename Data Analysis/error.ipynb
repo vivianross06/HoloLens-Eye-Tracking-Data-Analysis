{
 "cells": [
  {
   "cell_type": "code",
   "execution_count": 14,
   "metadata": {},
   "outputs": [],
   "source": [
    "import numpy as np\n",
    "import pandas as pd\n",
    "import os"
   ]
  },
  {
   "cell_type": "code",
   "execution_count": 64,
   "metadata": {},
   "outputs": [],
   "source": [
    "data_directory = \"../Data/Study/A/37/\"\n",
    "subdirectory = \"recalibrated_calibration/\"\n",
    "fileList = os.listdir(data_directory + subdirectory)"
   ]
  },
  {
   "cell_type": "code",
   "execution_count": 16,
   "metadata": {},
   "outputs": [],
   "source": [
    "def clean_df(df):\n",
    "    result = df.loc[(df['Movement'] != \"start\") & (df['Movement'] != \"transition\") & (df['EyeTrackingEnabled'] == True) & (df['EyeCalibrationValid'] == True) & (df['EyeTrackingEnabledAndValid'] == True) & (df['EyeTrackingDataValid'] == True) & (df['GazeInputSource'] == \"Eyes\")].copy()\n",
    "    #result = result[result['Movement'] != \"transition\"]\n",
    "    #result = result[result['EyeTrackingDataValid'] == 'TRUE']\n",
    "    #result = result[result['GazeInputSource'] == 'Eyes']\n",
    "    result.reset_index(inplace=True, drop=True)\n",
    "    return result"
   ]
  },
  {
   "cell_type": "code",
   "execution_count": 17,
   "metadata": {},
   "outputs": [],
   "source": [
    "def calculate_cosine_error(df):\n",
    "    df['cosineError'] = df.apply(lambda row: np.degrees(np.arccos(np.dot(np.array((row['EyeGazeDirection.x'], row['EyeGazeDirection.y'], row['EyeGazeDirection.z'])), np.array((row['localTransform.position.x'], row['localTransform.position.y'], row['localTransform.position.z'])))/(np.linalg.norm(np.array((row['EyeGazeDirection.x'], row['EyeGazeDirection.y'], row['EyeGazeDirection.z']))) * np.linalg.norm(np.array((row['localTransform.position.x'], row['localTransform.position.y'], row['localTransform.position.z'])))))), axis=1)\n",
    "    return df"
   ]
  },
  {
   "cell_type": "code",
   "execution_count": 18,
   "metadata": {},
   "outputs": [],
   "source": [
    "def calculate_euclidean_error(df):\n",
    "    #df['euclideanError'] = df.apply(lambda row: np.linalg.norm(np.array((row['GazeAngleX'], row['GazeAngleY']))-np.array((row['TargetAngleX'], row['TargetAngleY']))), axis=1)\n",
    "    #df['recalibratedEuclideanError'] = df.apply(lambda row: np.linalg.norm(np.array((row['CalibratedGazeAngleX'], row['CalibratedGazeAngleY']))-np.array((row['TargetAngleX'], row['TargetAngleY']))), axis=1)\n",
    "    df['euclideanError'] = np.sqrt((df.GazeAngleX-df.TargetAngleX) * (df.GazeAngleX-df.TargetAngleX) + (df.GazeAngleY-df.TargetAngleY) * (df.GazeAngleY-df.TargetAngleY))\n",
    "    df['recalibratedEuclideanError'] = np.sqrt((df.CalibratedGazeAngleX-df.TargetAngleX) * (df.CalibratedGazeAngleX-df.TargetAngleX) + (df.CalibratedGazeAngleY-df.TargetAngleY) * (df.CalibratedGazeAngleY-df.TargetAngleY))\n",
    "    return df"
   ]
  },
  {
   "cell_type": "code",
   "execution_count": 20,
   "metadata": {},
   "outputs": [],
   "source": [
    "def calculate_errors(output_subdirectory):\n",
    "    for file in fileList:\n",
    "        if '.csv' in file:\n",
    "            df = pd.read_csv(data_directory + subdirectory + file)\n",
    "            error_df = calculate_euclidean_error(df)\n",
    "            error_df = calculate_cosine_error(error_df)\n",
    "            if not os.path.exists(os.path.join(data_directory, output_subdirectory)):\n",
    "                os.makedirs(os.path.join(data_directory, output_subdirectory))\n",
    "            error_df_output_path = data_directory + output_subdirectory + '/' + file\n",
    "            error_df.to_csv(error_df_output_path, index=False)\n",
    "            print(file)\n",
    "            print(\"uncalibrated: \" + str(error_df['euclideanError'].mean()))\n",
    "            print(\"calibrated: \" + str(error_df['recalibratedEuclideanError'].mean()))\n",
    "            print(\"cosine: \" + str(error_df['cosineError'].mean()))\n",
    "            print(\"\")"
   ]
  },
  {
   "cell_type": "code",
   "execution_count": 65,
   "metadata": {},
   "outputs": [
    {
     "name": "stdout",
     "output_type": "stream",
     "text": [
      "ssHeadConstrained_20230516182105_shifted23.csv\n",
      "uncalibrated: 3.562993640198796\n",
      "calibrated: 3.284149377796959\n",
      "cosine: 3.527325376991265\n",
      "\n",
      "ssWalking_20230516182342_shifted48.csv\n",
      "uncalibrated: 62.89818820892629\n",
      "calibrated: 61.59008871378952\n",
      "cosine: 90.63602242834135\n",
      "\n",
      "ssHeadConstrained_20230516183354_shifted24.csv\n",
      "uncalibrated: 2.2757913418496183\n",
      "calibrated: 3.2106940344654973\n",
      "cosine: 2.2561088376340397\n",
      "\n",
      "wsWalking_20230516182913_shifted37.csv\n",
      "uncalibrated: 54.077911592902424\n",
      "calibrated: 53.37706762842978\n",
      "cosine: 87.15506637320783\n",
      "\n",
      "hallway_20230516181807_shifted0.csv\n",
      "uncalibrated: 28.384137798875546\n",
      "calibrated: 29.445286266213863\n",
      "cosine: 27.012483089988397\n",
      "\n",
      "wsWalking_20230516181450_shifted20.csv\n",
      "uncalibrated: 54.74562880367311\n",
      "calibrated: 54.50095896060525\n",
      "cosine: 88.76188118636676\n",
      "\n",
      "calibration_20230516183806_shifted0.csv\n",
      "uncalibrated: 5.933914610110139\n",
      "calibrated: 1.834241989570503\n",
      "cosine: 5.809242594823234\n",
      "\n",
      "wsBodyConstrained_20230516182700_shifted47.csv\n",
      "uncalibrated: 26.85043652475525\n",
      "calibrated: 26.21046272822444\n",
      "cosine: 25.82578613708288\n",
      "\n",
      "ssWalking_20230516183558_shifted47.csv\n",
      "uncalibrated: 61.17670496910042\n",
      "calibrated: 59.98157820746581\n",
      "cosine: 89.4458080381805\n",
      "\n",
      "wsBodyConstrained_20230516183918_shifted47.csv\n",
      "uncalibrated: 26.058303950419603\n",
      "calibrated: 25.342772870863605\n",
      "cosine: 25.115998656723978\n",
      "\n",
      "hallway_20230516183119_shifted0.csv\n",
      "uncalibrated: 33.13417634912822\n",
      "calibrated: 34.093063878167854\n",
      "cosine: 30.422124600569415\n",
      "\n",
      "calibration_20230516182549_shifted0.csv\n",
      "uncalibrated: 3.569938659582627\n",
      "calibrated: 1.793275373767471\n",
      "cosine: 3.5302555207323367\n",
      "\n"
     ]
    }
   ],
   "source": [
    "calculate_errors(\"error/recalibrated_calibration\")"
   ]
  }
 ],
 "metadata": {
  "kernelspec": {
   "display_name": "base",
   "language": "python",
   "name": "python3"
  },
  "language_info": {
   "codemirror_mode": {
    "name": "ipython",
    "version": 3
   },
   "file_extension": ".py",
   "mimetype": "text/x-python",
   "name": "python",
   "nbconvert_exporter": "python",
   "pygments_lexer": "ipython3",
   "version": "3.8.5"
  },
  "orig_nbformat": 4
 },
 "nbformat": 4,
 "nbformat_minor": 2
}

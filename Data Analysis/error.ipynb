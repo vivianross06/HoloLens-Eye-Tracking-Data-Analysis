{
 "cells": [
  {
   "cell_type": "code",
   "execution_count": 14,
   "metadata": {},
   "outputs": [],
   "source": [
    "import numpy as np\n",
    "import pandas as pd\n",
    "import os"
   ]
  },
  {
   "cell_type": "code",
   "execution_count": 38,
   "metadata": {},
   "outputs": [],
   "source": [
    "data_directory = \"../Data/Study/B/26/\"\n",
    "subdirectory = \"recalibrated_calibration/\"\n",
    "fileList = os.listdir(data_directory + subdirectory)"
   ]
  },
  {
   "cell_type": "code",
   "execution_count": 16,
   "metadata": {},
   "outputs": [],
   "source": [
    "def clean_df(df):\n",
    "    result = df.loc[(df['Movement'] != \"start\") & (df['Movement'] != \"transition\") & (df['EyeTrackingEnabled'] == True) & (df['EyeCalibrationValid'] == True) & (df['EyeTrackingEnabledAndValid'] == True) & (df['EyeTrackingDataValid'] == True) & (df['GazeInputSource'] == \"Eyes\")].copy()\n",
    "    #result = result[result['Movement'] != \"transition\"]\n",
    "    #result = result[result['EyeTrackingDataValid'] == 'TRUE']\n",
    "    #result = result[result['GazeInputSource'] == 'Eyes']\n",
    "    result.reset_index(inplace=True, drop=True)\n",
    "    return result"
   ]
  },
  {
   "cell_type": "code",
   "execution_count": 17,
   "metadata": {},
   "outputs": [],
   "source": [
    "def calculate_cosine_error(df):\n",
    "    df['cosineError'] = df.apply(lambda row: np.degrees(np.arccos(np.dot(np.array((row['EyeGazeDirection.x'], row['EyeGazeDirection.y'], row['EyeGazeDirection.z'])), np.array((row['localTransform.position.x'], row['localTransform.position.y'], row['localTransform.position.z'])))/(np.linalg.norm(np.array((row['EyeGazeDirection.x'], row['EyeGazeDirection.y'], row['EyeGazeDirection.z']))) * np.linalg.norm(np.array((row['localTransform.position.x'], row['localTransform.position.y'], row['localTransform.position.z'])))))), axis=1)\n",
    "    return df"
   ]
  },
  {
   "cell_type": "code",
   "execution_count": 18,
   "metadata": {},
   "outputs": [],
   "source": [
    "def calculate_euclidean_error(df):\n",
    "    #df['euclideanError'] = df.apply(lambda row: np.linalg.norm(np.array((row['GazeAngleX'], row['GazeAngleY']))-np.array((row['TargetAngleX'], row['TargetAngleY']))), axis=1)\n",
    "    #df['recalibratedEuclideanError'] = df.apply(lambda row: np.linalg.norm(np.array((row['CalibratedGazeAngleX'], row['CalibratedGazeAngleY']))-np.array((row['TargetAngleX'], row['TargetAngleY']))), axis=1)\n",
    "    df['euclideanError'] = np.sqrt((df.GazeAngleX-df.TargetAngleX) * (df.GazeAngleX-df.TargetAngleX) + (df.GazeAngleY-df.TargetAngleY) * (df.GazeAngleY-df.TargetAngleY))\n",
    "    df['recalibratedEuclideanError'] = np.sqrt((df.CalibratedGazeAngleX-df.TargetAngleX) * (df.CalibratedGazeAngleX-df.TargetAngleX) + (df.CalibratedGazeAngleY-df.TargetAngleY) * (df.CalibratedGazeAngleY-df.TargetAngleY))\n",
    "    return df"
   ]
  },
  {
   "cell_type": "code",
   "execution_count": 20,
   "metadata": {},
   "outputs": [],
   "source": [
    "def calculate_errors(output_subdirectory):\n",
    "    for file in fileList:\n",
    "        if '.csv' in file:\n",
    "            df = pd.read_csv(data_directory + subdirectory + file)\n",
    "            error_df = calculate_euclidean_error(df)\n",
    "            error_df = calculate_cosine_error(error_df)\n",
    "            if not os.path.exists(os.path.join(data_directory, output_subdirectory)):\n",
    "                os.makedirs(os.path.join(data_directory, output_subdirectory))\n",
    "            error_df_output_path = data_directory + output_subdirectory + '/' + file\n",
    "            error_df.to_csv(error_df_output_path, index=False)\n",
    "            print(file)\n",
    "            print(\"uncalibrated: \" + str(error_df['euclideanError'].mean()))\n",
    "            print(\"calibrated: \" + str(error_df['recalibratedEuclideanError'].mean()))\n",
    "            print(\"cosine: \" + str(error_df['cosineError'].mean()))\n",
    "            print(\"\")"
   ]
  },
  {
   "cell_type": "code",
   "execution_count": 39,
   "metadata": {},
   "outputs": [
    {
     "name": "stdout",
     "output_type": "stream",
     "text": [
      "wsBodyConstrained_20230515133456_shifted17.csv\n",
      "uncalibrated: 21.61551152412474\n",
      "calibrated: 21.162544473975615\n",
      "cosine: 21.121430899941092\n",
      "\n",
      "ssWalking_20230515132939_shifted0.csv\n",
      "uncalibrated: 61.392536835623524\n",
      "calibrated: 59.60045155823628\n",
      "cosine: 85.48604196528926\n",
      "\n",
      "ssWalking_20230515131239_shifted0.csv\n",
      "uncalibrated: 60.95070382773007\n",
      "calibrated: 58.99994279048801\n",
      "cosine: 89.31001080666171\n",
      "\n",
      "wsWalking_20230515132319_shifted48.csv\n",
      "uncalibrated: 56.53640267138132\n",
      "calibrated: 54.42153499870416\n",
      "cosine: 88.96395304217936\n",
      "\n",
      "ssHeadConstrained_20230515130934_shifted26.csv\n",
      "uncalibrated: 6.4474918258856695\n",
      "calibrated: 1.2552894388206792\n",
      "cosine: 6.311961048373535\n",
      "\n",
      "ssHeadConstrained_20230515132735_shifted27.csv\n",
      "uncalibrated: 5.023500806311865\n",
      "calibrated: 2.3948584489569873\n",
      "cosine: 4.9328327723108485\n",
      "\n",
      "calibration_20230515130828_shifted0.csv\n",
      "uncalibrated: 6.690758932938728\n",
      "calibrated: 1.926862930535958\n",
      "cosine: 6.5300949594798015\n",
      "\n",
      "hallway_20230515131742_shifted0.csv\n",
      "uncalibrated: 25.668115993022386\n",
      "calibrated: 21.440354530854034\n",
      "cosine: 24.846084405344996\n",
      "\n",
      "wsBodyConstrained_20230515132050_shifted0.csv\n",
      "uncalibrated: 19.797134698126087\n",
      "calibrated: 18.951924085923853\n",
      "cosine: 19.274583264760818\n",
      "\n",
      "calibration_20230515132633_shifted0.csv\n",
      "uncalibrated: 5.211296150852215\n",
      "calibrated: 0.9844460459238816\n",
      "cosine: 5.099511919983834\n",
      "\n",
      "hallway_20230515133206_shifted0.csv\n",
      "uncalibrated: 25.387997019092374\n",
      "calibrated: 21.22142190046094\n",
      "cosine: 24.55989072626076\n",
      "\n",
      "wsWalking_20230515133645_shifted48.csv\n",
      "uncalibrated: 60.339446343782974\n",
      "calibrated: 57.99335305974141\n",
      "cosine: 89.05407892251822\n",
      "\n"
     ]
    }
   ],
   "source": [
    "calculate_errors(\"error/recalibrated_calibration\")"
   ]
  }
 ],
 "metadata": {
  "kernelspec": {
   "display_name": "base",
   "language": "python",
   "name": "python3"
  },
  "language_info": {
   "codemirror_mode": {
    "name": "ipython",
    "version": 3
   },
   "file_extension": ".py",
   "mimetype": "text/x-python",
   "name": "python",
   "nbconvert_exporter": "python",
   "pygments_lexer": "ipython3",
   "version": "3.8.5"
  },
  "orig_nbformat": 4
 },
 "nbformat": 4,
 "nbformat_minor": 2
}

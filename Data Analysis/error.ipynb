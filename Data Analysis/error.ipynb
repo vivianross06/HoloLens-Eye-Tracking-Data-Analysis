{
 "cells": [
  {
   "cell_type": "code",
   "execution_count": 14,
   "metadata": {},
   "outputs": [],
   "source": [
    "import numpy as np\n",
    "import pandas as pd\n",
    "import os"
   ]
  },
  {
   "cell_type": "code",
   "execution_count": 46,
   "metadata": {},
   "outputs": [],
   "source": [
    "data_directory = \"../Data/Study/B/30/\"\n",
    "subdirectory = \"recalibrated_calibration/\"\n",
    "fileList = os.listdir(data_directory + subdirectory)"
   ]
  },
  {
   "cell_type": "code",
   "execution_count": 16,
   "metadata": {},
   "outputs": [],
   "source": [
    "def clean_df(df):\n",
    "    result = df.loc[(df['Movement'] != \"start\") & (df['Movement'] != \"transition\") & (df['EyeTrackingEnabled'] == True) & (df['EyeCalibrationValid'] == True) & (df['EyeTrackingEnabledAndValid'] == True) & (df['EyeTrackingDataValid'] == True) & (df['GazeInputSource'] == \"Eyes\")].copy()\n",
    "    #result = result[result['Movement'] != \"transition\"]\n",
    "    #result = result[result['EyeTrackingDataValid'] == 'TRUE']\n",
    "    #result = result[result['GazeInputSource'] == 'Eyes']\n",
    "    result.reset_index(inplace=True, drop=True)\n",
    "    return result"
   ]
  },
  {
   "cell_type": "code",
   "execution_count": 17,
   "metadata": {},
   "outputs": [],
   "source": [
    "def calculate_cosine_error(df):\n",
    "    df['cosineError'] = df.apply(lambda row: np.degrees(np.arccos(np.dot(np.array((row['EyeGazeDirection.x'], row['EyeGazeDirection.y'], row['EyeGazeDirection.z'])), np.array((row['localTransform.position.x'], row['localTransform.position.y'], row['localTransform.position.z'])))/(np.linalg.norm(np.array((row['EyeGazeDirection.x'], row['EyeGazeDirection.y'], row['EyeGazeDirection.z']))) * np.linalg.norm(np.array((row['localTransform.position.x'], row['localTransform.position.y'], row['localTransform.position.z'])))))), axis=1)\n",
    "    return df"
   ]
  },
  {
   "cell_type": "code",
   "execution_count": 18,
   "metadata": {},
   "outputs": [],
   "source": [
    "def calculate_euclidean_error(df):\n",
    "    #df['euclideanError'] = df.apply(lambda row: np.linalg.norm(np.array((row['GazeAngleX'], row['GazeAngleY']))-np.array((row['TargetAngleX'], row['TargetAngleY']))), axis=1)\n",
    "    #df['recalibratedEuclideanError'] = df.apply(lambda row: np.linalg.norm(np.array((row['CalibratedGazeAngleX'], row['CalibratedGazeAngleY']))-np.array((row['TargetAngleX'], row['TargetAngleY']))), axis=1)\n",
    "    df['euclideanError'] = np.sqrt((df.GazeAngleX-df.TargetAngleX) * (df.GazeAngleX-df.TargetAngleX) + (df.GazeAngleY-df.TargetAngleY) * (df.GazeAngleY-df.TargetAngleY))\n",
    "    df['recalibratedEuclideanError'] = np.sqrt((df.CalibratedGazeAngleX-df.TargetAngleX) * (df.CalibratedGazeAngleX-df.TargetAngleX) + (df.CalibratedGazeAngleY-df.TargetAngleY) * (df.CalibratedGazeAngleY-df.TargetAngleY))\n",
    "    return df"
   ]
  },
  {
   "cell_type": "code",
   "execution_count": 20,
   "metadata": {},
   "outputs": [],
   "source": [
    "def calculate_errors(output_subdirectory):\n",
    "    for file in fileList:\n",
    "        if '.csv' in file:\n",
    "            df = pd.read_csv(data_directory + subdirectory + file)\n",
    "            error_df = calculate_euclidean_error(df)\n",
    "            error_df = calculate_cosine_error(error_df)\n",
    "            if not os.path.exists(os.path.join(data_directory, output_subdirectory)):\n",
    "                os.makedirs(os.path.join(data_directory, output_subdirectory))\n",
    "            error_df_output_path = data_directory + output_subdirectory + '/' + file\n",
    "            error_df.to_csv(error_df_output_path, index=False)\n",
    "            print(file)\n",
    "            print(\"uncalibrated: \" + str(error_df['euclideanError'].mean()))\n",
    "            print(\"calibrated: \" + str(error_df['recalibratedEuclideanError'].mean()))\n",
    "            print(\"cosine: \" + str(error_df['cosineError'].mean()))\n",
    "            print(\"\")"
   ]
  },
  {
   "cell_type": "code",
   "execution_count": 47,
   "metadata": {},
   "outputs": [
    {
     "name": "stdout",
     "output_type": "stream",
     "text": [
      "wsBodyConstrained_20230515171623_shifted47.csv\n",
      "uncalibrated: 14.877200033136806\n",
      "calibrated: 17.72905186707665\n",
      "cosine: 14.39200785358462\n",
      "\n",
      "ssWalking_20230515173946_shifted48.csv\n",
      "uncalibrated: 54.494089719490844\n",
      "calibrated: 53.287636146595396\n",
      "cosine: 90.8800045891792\n",
      "\n",
      "ssHeadConstrained_20230515173737_shifted31.csv\n",
      "uncalibrated: 5.413797679042427\n",
      "calibrated: 6.1221994398254\n",
      "cosine: 5.341621753352928\n",
      "\n",
      "wsWalking_20230515171950_shifted44.csv\n",
      "uncalibrated: 57.79777245412059\n",
      "calibrated: 57.52553680219981\n",
      "cosine: 82.08700889222881\n",
      "\n",
      "hallway_20230515171147_shifted0.csv\n",
      "uncalibrated: 26.856151656540455\n",
      "calibrated: 22.6842975257805\n",
      "cosine: 25.5054374826398\n",
      "\n",
      "calibration_20230515173209_shifted0.csv\n",
      "uncalibrated: 7.358569633293291\n",
      "calibrated: 1.5150055268256177\n",
      "cosine: 7.167165035255287\n",
      "\n",
      "wsBodyConstrained_20230515173321_shifted47.csv\n",
      "uncalibrated: 21.77962456065017\n",
      "calibrated: 23.985553440641123\n",
      "cosine: 21.18653058966441\n",
      "\n",
      "hallway_20230515172923_shifted0.csv\n",
      "uncalibrated: 25.52539641857717\n",
      "calibrated: 21.970992661945996\n",
      "cosine: 24.350156664092417\n",
      "\n",
      "ssHeadConstrained_20230515172200_shifted23.csv\n",
      "uncalibrated: 2.147877440864754\n",
      "calibrated: 7.8815251099007755\n",
      "cosine: 2.1227589147924624\n",
      "\n",
      "calibration_20230515171437_shifted0.csv\n",
      "uncalibrated: 8.909671942523788\n",
      "calibrated: 1.3154829856712573\n",
      "cosine: 8.673825286375523\n",
      "\n",
      "wsWalking_20230515173530_shifted13.csv\n",
      "uncalibrated: 57.248114896115595\n",
      "calibrated: 56.90135858104863\n",
      "cosine: 84.60700661871257\n",
      "\n",
      "ssWalking_20230515172604_shifted48.csv\n",
      "uncalibrated: 54.294061473869\n",
      "calibrated: 53.94951044831684\n",
      "cosine: 84.66344582479212\n",
      "\n"
     ]
    }
   ],
   "source": [
    "calculate_errors(\"error/recalibrated_calibration\")"
   ]
  }
 ],
 "metadata": {
  "kernelspec": {
   "display_name": "base",
   "language": "python",
   "name": "python3"
  },
  "language_info": {
   "codemirror_mode": {
    "name": "ipython",
    "version": 3
   },
   "file_extension": ".py",
   "mimetype": "text/x-python",
   "name": "python",
   "nbconvert_exporter": "python",
   "pygments_lexer": "ipython3",
   "version": "3.8.5"
  },
  "orig_nbformat": 4
 },
 "nbformat": 4,
 "nbformat_minor": 2
}

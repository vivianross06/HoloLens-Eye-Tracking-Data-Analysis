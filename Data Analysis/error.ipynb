{
 "cells": [
  {
   "cell_type": "code",
   "execution_count": 7,
   "metadata": {},
   "outputs": [],
   "source": [
    "import numpy as np\n",
    "import pandas as pd\n",
    "import os"
   ]
  },
  {
   "cell_type": "code",
   "execution_count": 8,
   "metadata": {},
   "outputs": [],
   "source": [
    "data_directory = \"../Data/Pilot/PS14/\"\n",
    "subdirectory = \"recalibrated_calibration/\"\n",
    "fileList = os.listdir(data_directory + subdirectory)"
   ]
  },
  {
   "cell_type": "code",
   "execution_count": 9,
   "metadata": {},
   "outputs": [],
   "source": [
    "def clean_df(df):\n",
    "    result = df[df['Movement'] != \"start\"]\n",
    "    result = result[result['Movement'] != \"transition\"]\n",
    "    result = result[result['EyeTrackingDataValid'] != 'TRUE']\n",
    "    return result"
   ]
  },
  {
   "cell_type": "code",
   "execution_count": null,
   "metadata": {},
   "outputs": [],
   "source": [
    "def calculate_cosine_error(df):\n",
    "    df['cosineError'] = np.arccos(np.clip(np.dot([df.])))"
   ]
  },
  {
   "cell_type": "code",
   "execution_count": 10,
   "metadata": {},
   "outputs": [],
   "source": [
    "def calculate_euclidean_error(df):\n",
    "    df['euclideanError'] = np.sqrt((df.GazeAngleX-df.TargetAngleX) * (df.GazeAngleX-df.TargetAngleX) + (df.GazeAngleY-df.TargetAngleY) * (df.GazeAngleY-df.TargetAngleY))\n",
    "    df['recalibratedEuclideanError'] = np.sqrt((df.CalibratedGazeAngleX-df.TargetAngleX) * (df.CalibratedGazeAngleX-df.TargetAngleX) + (df.CalibratedGazeAngleY-df.TargetAngleY) * (df.CalibratedGazeAngleY-df.TargetAngleY))\n",
    "    return df"
   ]
  },
  {
   "cell_type": "code",
   "execution_count": 14,
   "metadata": {},
   "outputs": [],
   "source": [
    "def calculate_errors(output_subdirectory):\n",
    "    for file in fileList:\n",
    "        if '.csv' in file:\n",
    "            df = pd.read_csv(data_directory + subdirectory + file)\n",
    "            error_df = calculate_euclidean_error(df)\n",
    "            if not os.path.exists(os.path.join(data_directory, output_subdirectory)):\n",
    "                os.mkdir(os.path.join(data_directory, output_subdirectory))\n",
    "            error_df_output_path = data_directory + output_subdirectory + '/' + file\n",
    "            error_df.to_csv(error_df_output_path)\n",
    "            print(file)\n",
    "            print(\"uncalibrated: \" + str(error_df['euclideanError'].mean()))\n",
    "            print(\"calibrated: \" + str(error_df['recalibratedEuclideanError'].mean()))\n",
    "            print(\"\")"
   ]
  },
  {
   "cell_type": "code",
   "execution_count": 15,
   "metadata": {},
   "outputs": [
    {
     "name": "stdout",
     "output_type": "stream",
     "text": [
      "ssWalking_20230504101716_shifted48_recalibrated_calibration.csv\n",
      "uncalibrated: 60.904266465009904\n",
      "calibrated: 58.085106183143886\n",
      "\n",
      "ssHeadConstrained_20230504101220_shifted25_recalibrated_calibration.csv\n",
      "uncalibrated: 7.479314340987533\n",
      "calibrated: 2.668184669701548\n",
      "\n",
      "wsWalking_20230504101847_shifted47_recalibrated_calibration.csv\n",
      "uncalibrated: 56.98575174778879\n",
      "calibrated: 54.64804622795207\n",
      "\n",
      "hallway_20230504102026_shifted0_recalibrated_calibration.csv\n",
      "uncalibrated: 24.241153615521988\n",
      "calibrated: 18.72024334738751\n",
      "\n",
      "wsBodyConstrained_20230504101432_shifted0_recalibrated_calibration.csv\n",
      "uncalibrated: 28.112926724942362\n",
      "calibrated: 29.015980692251894\n",
      "\n",
      "calibration_20230504101057_shifted0_recalibrated_calibration.csv\n",
      "uncalibrated: 10.132366233301589\n",
      "calibrated: 0.6328816326566084\n",
      "\n"
     ]
    }
   ],
   "source": [
    "calculate_errors(\"error\")"
   ]
  }
 ],
 "metadata": {
  "kernelspec": {
   "display_name": "base",
   "language": "python",
   "name": "python3"
  },
  "language_info": {
   "codemirror_mode": {
    "name": "ipython",
    "version": 3
   },
   "file_extension": ".py",
   "mimetype": "text/x-python",
   "name": "python",
   "nbconvert_exporter": "python",
   "pygments_lexer": "ipython3",
   "version": "3.8.5"
  },
  "orig_nbformat": 4
 },
 "nbformat": 4,
 "nbformat_minor": 2
}
